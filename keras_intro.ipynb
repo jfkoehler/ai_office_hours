{
 "cells": [
  {
   "cell_type": "markdown",
   "metadata": {},
   "source": [
    "# Introduction to `keras`\n",
    "\n",
    "Solve three problems:\n",
    "\n",
    "- Regression\n",
    "- Binary Classification\n",
    "- Multi-class Classification"
   ]
  },
  {
   "cell_type": "code",
   "execution_count": 1,
   "metadata": {},
   "outputs": [
    {
     "name": "stderr",
     "output_type": "stream",
     "text": [
      "Using TensorFlow backend.\n"
     ]
    }
   ],
   "source": [
    "%matplotlib inline\n",
    "import matplotlib.pyplot as plt\n",
    "import numpy as np\n",
    "import pandas as pd\n",
    "import keras\n",
    "from sklearn.datasets import make_regression, make_classification, load_boston, load_breast_cancer, load_iris"
   ]
  },
  {
   "cell_type": "code",
   "execution_count": 2,
   "metadata": {},
   "outputs": [],
   "source": [
    "from sklearn.linear_model import LinearRegression, LogisticRegression"
   ]
  },
  {
   "cell_type": "code",
   "execution_count": 3,
   "metadata": {},
   "outputs": [],
   "source": [
    "from sklearn.metrics import mean_squared_error"
   ]
  },
  {
   "cell_type": "code",
   "execution_count": 4,
   "metadata": {},
   "outputs": [],
   "source": [
    "from sklearn.preprocessing import StandardScaler\n",
    "from sklearn.model_selection import train_test_split"
   ]
  },
  {
   "cell_type": "code",
   "execution_count": 5,
   "metadata": {},
   "outputs": [],
   "source": [
    "X, y = make_regression(n_features = 20)"
   ]
  },
  {
   "cell_type": "code",
   "execution_count": 6,
   "metadata": {},
   "outputs": [],
   "source": [
    "X_train, X_test, y_train, y_test = train_test_split(X, y)"
   ]
  },
  {
   "cell_type": "code",
   "execution_count": 7,
   "metadata": {},
   "outputs": [],
   "source": [
    "sscaler = StandardScaler()\n",
    "X_train_scaled = sscaler.fit_transform(X_train)\n",
    "X_test_scaled = sscaler.transform(X_test)"
   ]
  },
  {
   "cell_type": "markdown",
   "metadata": {},
   "source": [
    "### Basic Approach to Building Network with `Sequential`\n",
    "\n",
    "1. Determine network topology\n",
    "2. Determine how model will compile\n",
    "3. Fit Model"
   ]
  },
  {
   "cell_type": "code",
   "execution_count": 8,
   "metadata": {},
   "outputs": [],
   "source": [
    "from keras.models import Sequential"
   ]
  },
  {
   "cell_type": "code",
   "execution_count": 9,
   "metadata": {},
   "outputs": [],
   "source": [
    "model = Sequential()"
   ]
  },
  {
   "cell_type": "code",
   "execution_count": 10,
   "metadata": {},
   "outputs": [],
   "source": [
    "from keras.layers import Dense"
   ]
  },
  {
   "cell_type": "code",
   "execution_count": 11,
   "metadata": {},
   "outputs": [],
   "source": [
    "model.add(Dense(64, input_shape = (X.shape[1], ), activation = 'relu'))\n",
    "model.add(Dense(32, activation = 'relu'))\n",
    "model.add(Dense(1))"
   ]
  },
  {
   "cell_type": "code",
   "execution_count": 12,
   "metadata": {},
   "outputs": [
    {
     "name": "stdout",
     "output_type": "stream",
     "text": [
      "Model: \"sequential_1\"\n",
      "_________________________________________________________________\n",
      "Layer (type)                 Output Shape              Param #   \n",
      "=================================================================\n",
      "dense_1 (Dense)              (None, 64)                1344      \n",
      "_________________________________________________________________\n",
      "dense_2 (Dense)              (None, 32)                2080      \n",
      "_________________________________________________________________\n",
      "dense_3 (Dense)              (None, 1)                 33        \n",
      "=================================================================\n",
      "Total params: 3,457\n",
      "Trainable params: 3,457\n",
      "Non-trainable params: 0\n",
      "_________________________________________________________________\n"
     ]
    }
   ],
   "source": [
    "model.summary()"
   ]
  },
  {
   "cell_type": "code",
   "execution_count": 13,
   "metadata": {},
   "outputs": [],
   "source": [
    "model.compile(loss = 'mse', optimizer='adam', metrics = ['mae'])"
   ]
  },
  {
   "cell_type": "code",
   "execution_count": 14,
   "metadata": {},
   "outputs": [],
   "source": [
    "history = model.fit(X_train_scaled, y_train, validation_data=(X_test_scaled, y_test),\n",
    "         epochs = 150, verbose = 0)"
   ]
  },
  {
   "cell_type": "code",
   "execution_count": 15,
   "metadata": {},
   "outputs": [
    {
     "data": {
      "text/plain": [
       "[<matplotlib.lines.Line2D at 0x7fe1804e4bd0>]"
      ]
     },
     "execution_count": 15,
     "metadata": {},
     "output_type": "execute_result"
    },
    {
     "data": {
      "image/png": "[encoded data removed]",
      "text/plain": [
       "<Figure size 432x288 with 1 Axes>"
      ]
     },
     "metadata": {
      "needs_background": "light"
     },
     "output_type": "display_data"
    }
   ],
   "source": [
    "plt.plot(history.history['loss'])\n",
    "plt.plot(history.history['val_loss'])"
   ]
  },
  {
   "cell_type": "code",
   "execution_count": 16,
   "metadata": {},
   "outputs": [
    {
     "data": {
      "text/plain": [
       "[<matplotlib.lines.Line2D at 0x7fe15092e9d0>]"
      ]
     },
     "execution_count": 16,
     "metadata": {},
     "output_type": "execute_result"
    },
    {
     "data": {
      "image/png": "[encoded data removed]",
      "text/plain": [
       "<Figure size 432x288 with 1 Axes>"
      ]
     },
     "metadata": {
      "needs_background": "light"
     },
     "output_type": "display_data"
    }
   ],
   "source": [
    "plt.plot(history.history['mae'])\n",
    "plt.plot(history.history['val_mae'])"
   ]
  },
  {
   "cell_type": "code",
   "execution_count": 17,
   "metadata": {},
   "outputs": [],
   "source": [
    "lr = LinearRegression()"
   ]
  },
  {
   "cell_type": "code",
   "execution_count": 18,
   "metadata": {},
   "outputs": [],
   "source": [
    "from sklearn.metrics import mean_absolute_error"
   ]
  },
  {
   "cell_type": "code",
   "execution_count": 19,
   "metadata": {},
   "outputs": [
    {
     "data": {
      "text/plain": [
       "LinearRegression()"
      ]
     },
     "execution_count": 19,
     "metadata": {},
     "output_type": "execute_result"
    }
   ],
   "source": [
    "lr.fit(X_train_scaled, y_train)"
   ]
  },
  {
   "cell_type": "code",
   "execution_count": 20,
   "metadata": {},
   "outputs": [],
   "source": [
    "preds = lr.predict(X_test_scaled)"
   ]
  },
  {
   "cell_type": "code",
   "execution_count": 21,
   "metadata": {},
   "outputs": [],
   "source": [
    "mae = mean_absolute_error(y_test, preds)"
   ]
  },
  {
   "cell_type": "code",
   "execution_count": 22,
   "metadata": {},
   "outputs": [
    {
     "data": {
      "text/plain": [
       "1.766409241099609e-13"
      ]
     },
     "execution_count": 22,
     "metadata": {},
     "output_type": "execute_result"
    }
   ],
   "source": [
    "mae"
   ]
  },
  {
   "cell_type": "code",
   "execution_count": 23,
   "metadata": {},
   "outputs": [],
   "source": [
    "ann_preds = model.predict(X_test_scaled)"
   ]
  },
  {
   "cell_type": "code",
   "execution_count": 24,
   "metadata": {},
   "outputs": [],
   "source": [
    "mae_ann = mean_absolute_error(y_test, ann_preds)"
   ]
  },
  {
   "cell_type": "code",
   "execution_count": 25,
   "metadata": {},
   "outputs": [
    {
     "data": {
      "text/plain": [
       "20.127822052232265"
      ]
     },
     "execution_count": 25,
     "metadata": {},
     "output_type": "execute_result"
    }
   ],
   "source": [
    "mae_ann"
   ]
  },
  {
   "cell_type": "code",
   "execution_count": 26,
   "metadata": {},
   "outputs": [
    {
     "data": {
      "text/plain": [
       "[<matplotlib.lines.Line2D at 0x7fe191533990>]"
      ]
     },
     "execution_count": 26,
     "metadata": {},
     "output_type": "execute_result"
    },
    {
     "data": {
      "image/png": "[encoded data removed]",
      "text/plain": [
       "<Figure size 432x288 with 1 Axes>"
      ]
     },
     "metadata": {
      "needs_background": "light"
     },
     "output_type": "display_data"
    }
   ],
   "source": [
    "plt.plot(ann_preds)\n",
    "plt.plot(preds)"
   ]
  },
  {
   "cell_type": "code",
   "execution_count": 27,
   "metadata": {},
   "outputs": [],
   "source": [
    "boston = load_boston()"
   ]
  },
  {
   "cell_type": "code",
   "execution_count": 28,
   "metadata": {},
   "outputs": [],
   "source": [
    "X = boston.data\n",
    "y = boston.target"
   ]
  },
  {
   "cell_type": "code",
   "execution_count": 29,
   "metadata": {},
   "outputs": [],
   "source": [
    "X_train, X_test, y_train, y_test = train_test_split(X, y)"
   ]
  },
  {
   "cell_type": "code",
   "execution_count": 30,
   "metadata": {},
   "outputs": [],
   "source": [
    "sscale = StandardScaler()\n",
    "X_train_scaled = sscale.fit_transform(X_train)\n",
    "X_test_scaled = sscale.transform(X_test)"
   ]
  },
  {
   "cell_type": "code",
   "execution_count": 31,
   "metadata": {},
   "outputs": [],
   "source": [
    "model = Sequential()\n",
    "model.add(Dense(32, input_shape = (X.shape[1], ), activation = 'relu'))\n",
    "model.add(Dense(32, activation = 'relu'))\n",
    "model.add(Dense(1))"
   ]
  },
  {
   "cell_type": "code",
   "execution_count": 32,
   "metadata": {},
   "outputs": [],
   "source": [
    "model.compile(loss = 'mse', optimizer='adam', metrics = ['mae'])"
   ]
  },
  {
   "cell_type": "code",
   "execution_count": 33,
   "metadata": {},
   "outputs": [
    {
     "name": "stdout",
     "output_type": "stream",
     "text": [
      "Train on 379 samples, validate on 127 samples\n",
      "Epoch 1/50\n",
      "379/379 [==============================] - 0s 260us/step - loss: 600.2634 - mae: 22.7783 - val_loss: 568.5462 - val_mae: 22.0507\n",
      "Epoch 2/50\n",
      "379/379 [==============================] - 0s 27us/step - loss: 580.9471 - mae: 22.3155 - val_loss: 550.3124 - val_mae: 21.5981\n",
      "Epoch 3/50\n",
      "379/379 [==============================] - 0s 26us/step - loss: 561.8200 - mae: 21.8552 - val_loss: 531.4674 - val_mae: 21.1281\n",
      "Epoch 4/50\n",
      "379/379 [==============================] - 0s 27us/step - loss: 540.1617 - mae: 21.3252 - val_loss: 508.8608 - val_mae: 20.5602\n",
      "Epoch 5/50\n",
      "379/379 [==============================] - 0s 28us/step - loss: 513.7671 - mae: 20.6722 - val_loss: 480.1433 - val_mae: 19.8311\n",
      "Epoch 6/50\n",
      "379/379 [==============================] - 0s 27us/step - loss: 478.8249 - mae: 19.8261 - val_loss: 443.4692 - val_mae: 18.8725\n",
      "Epoch 7/50\n",
      "379/379 [==============================] - 0s 27us/step - loss: 435.2155 - mae: 18.6889 - val_loss: 394.6565 - val_mae: 17.5602\n",
      "Epoch 8/50\n",
      "379/379 [==============================] - 0s 27us/step - loss: 378.4274 - mae: 17.1717 - val_loss: 334.1425 - val_mae: 15.8478\n",
      "Epoch 9/50\n",
      "379/379 [==============================] - 0s 28us/step - loss: 309.5742 - mae: 15.2622 - val_loss: 265.3235 - val_mae: 13.7640\n",
      "Epoch 10/50\n",
      "379/379 [==============================] - 0s 25us/step - loss: 237.9433 - mae: 13.0038 - val_loss: 195.1405 - val_mae: 11.3669\n",
      "Epoch 11/50\n",
      "379/379 [==============================] - 0s 25us/step - loss: 169.9481 - mae: 10.5667 - val_loss: 135.5705 - val_mae: 8.9401\n",
      "Epoch 12/50\n",
      "379/379 [==============================] - 0s 24us/step - loss: 119.3518 - mae: 8.4819 - val_loss: 92.5291 - val_mae: 7.1502\n",
      "Epoch 13/50\n",
      "379/379 [==============================] - 0s 24us/step - loss: 86.8936 - mae: 7.0437 - val_loss: 68.2060 - val_mae: 6.0207\n",
      "Epoch 14/50\n",
      "379/379 [==============================] - 0s 25us/step - loss: 68.8662 - mae: 6.0853 - val_loss: 54.3935 - val_mae: 5.3707\n",
      "Epoch 15/50\n",
      "379/379 [==============================] - 0s 24us/step - loss: 57.4861 - mae: 5.4610 - val_loss: 44.9928 - val_mae: 4.8749\n",
      "Epoch 16/50\n",
      "379/379 [==============================] - 0s 25us/step - loss: 49.1474 - mae: 5.0556 - val_loss: 38.3450 - val_mae: 4.4877\n",
      "Epoch 17/50\n",
      "379/379 [==============================] - 0s 27us/step - loss: 42.7663 - mae: 4.6958 - val_loss: 33.8603 - val_mae: 4.2228\n",
      "Epoch 18/50\n",
      "379/379 [==============================] - 0s 25us/step - loss: 38.2702 - mae: 4.4370 - val_loss: 30.6262 - val_mae: 4.0201\n",
      "Epoch 19/50\n",
      "379/379 [==============================] - 0s 24us/step - loss: 35.0099 - mae: 4.2521 - val_loss: 28.3226 - val_mae: 3.8837\n",
      "Epoch 20/50\n",
      "379/379 [==============================] - 0s 24us/step - loss: 32.6672 - mae: 4.1005 - val_loss: 26.7218 - val_mae: 3.7888\n",
      "Epoch 21/50\n",
      "379/379 [==============================] - 0s 26us/step - loss: 30.8085 - mae: 3.9808 - val_loss: 25.5537 - val_mae: 3.7205\n",
      "Epoch 22/50\n",
      "379/379 [==============================] - 0s 23us/step - loss: 29.5233 - mae: 3.9072 - val_loss: 24.4725 - val_mae: 3.6511\n",
      "Epoch 23/50\n",
      "379/379 [==============================] - 0s 24us/step - loss: 28.4125 - mae: 3.8219 - val_loss: 23.6567 - val_mae: 3.5645\n",
      "Epoch 24/50\n",
      "379/379 [==============================] - 0s 23us/step - loss: 27.4419 - mae: 3.7499 - val_loss: 22.8388 - val_mae: 3.5111\n",
      "Epoch 25/50\n",
      "379/379 [==============================] - 0s 23us/step - loss: 26.6695 - mae: 3.7084 - val_loss: 22.1165 - val_mae: 3.4664\n",
      "Epoch 26/50\n",
      "379/379 [==============================] - 0s 25us/step - loss: 25.8814 - mae: 3.6528 - val_loss: 21.4416 - val_mae: 3.4160\n",
      "Epoch 27/50\n",
      "379/379 [==============================] - 0s 26us/step - loss: 25.1297 - mae: 3.5955 - val_loss: 20.9284 - val_mae: 3.3717\n",
      "Epoch 28/50\n",
      "379/379 [==============================] - 0s 25us/step - loss: 24.5007 - mae: 3.5542 - val_loss: 20.3417 - val_mae: 3.3352\n",
      "Epoch 29/50\n",
      "379/379 [==============================] - 0s 24us/step - loss: 23.9811 - mae: 3.5194 - val_loss: 19.8342 - val_mae: 3.3014\n",
      "Epoch 30/50\n",
      "379/379 [==============================] - 0s 25us/step - loss: 23.4179 - mae: 3.4808 - val_loss: 19.3087 - val_mae: 3.2641\n",
      "Epoch 31/50\n",
      "379/379 [==============================] - 0s 24us/step - loss: 22.9001 - mae: 3.4481 - val_loss: 18.6553 - val_mae: 3.2140\n",
      "Epoch 32/50\n",
      "379/379 [==============================] - 0s 27us/step - loss: 22.4230 - mae: 3.4103 - val_loss: 18.2863 - val_mae: 3.1886\n",
      "Epoch 33/50\n",
      "379/379 [==============================] - 0s 26us/step - loss: 21.9560 - mae: 3.3774 - val_loss: 17.8800 - val_mae: 3.1649\n",
      "Epoch 34/50\n",
      "379/379 [==============================] - 0s 24us/step - loss: 21.5729 - mae: 3.3394 - val_loss: 17.5501 - val_mae: 3.1110\n",
      "Epoch 35/50\n",
      "379/379 [==============================] - 0s 24us/step - loss: 21.1318 - mae: 3.3004 - val_loss: 17.0495 - val_mae: 3.0877\n",
      "Epoch 36/50\n",
      "379/379 [==============================] - 0s 24us/step - loss: 20.7195 - mae: 3.2750 - val_loss: 16.6566 - val_mae: 3.0702\n",
      "Epoch 37/50\n",
      "379/379 [==============================] - 0s 25us/step - loss: 20.3665 - mae: 3.2487 - val_loss: 16.3820 - val_mae: 3.0317\n",
      "Epoch 38/50\n",
      "379/379 [==============================] - 0s 25us/step - loss: 20.0208 - mae: 3.2217 - val_loss: 16.0541 - val_mae: 3.0212\n",
      "Epoch 39/50\n",
      "379/379 [==============================] - 0s 24us/step - loss: 19.5879 - mae: 3.1901 - val_loss: 15.6966 - val_mae: 2.9981\n",
      "Epoch 40/50\n",
      "379/379 [==============================] - 0s 24us/step - loss: 19.2881 - mae: 3.1619 - val_loss: 15.3023 - val_mae: 2.9751\n",
      "Epoch 41/50\n",
      "379/379 [==============================] - 0s 24us/step - loss: 18.9751 - mae: 3.1346 - val_loss: 15.0658 - val_mae: 2.9379\n",
      "Epoch 42/50\n",
      "379/379 [==============================] - 0s 24us/step - loss: 18.6051 - mae: 3.1066 - val_loss: 14.7682 - val_mae: 2.9186\n",
      "Epoch 43/50\n",
      "379/379 [==============================] - 0s 25us/step - loss: 18.3300 - mae: 3.0762 - val_loss: 14.5247 - val_mae: 2.8849\n",
      "Epoch 44/50\n",
      "379/379 [==============================] - 0s 25us/step - loss: 18.0907 - mae: 3.0430 - val_loss: 14.2118 - val_mae: 2.8586\n",
      "Epoch 45/50\n",
      "379/379 [==============================] - 0s 24us/step - loss: 17.8143 - mae: 3.0214 - val_loss: 13.9797 - val_mae: 2.8519\n",
      "Epoch 46/50\n",
      "379/379 [==============================] - 0s 24us/step - loss: 17.5381 - mae: 3.0004 - val_loss: 13.8029 - val_mae: 2.8100\n",
      "Epoch 47/50\n",
      "379/379 [==============================] - 0s 24us/step - loss: 17.2393 - mae: 2.9654 - val_loss: 13.5677 - val_mae: 2.7854\n",
      "Epoch 48/50\n",
      "379/379 [==============================] - 0s 25us/step - loss: 17.0677 - mae: 2.9575 - val_loss: 13.3159 - val_mae: 2.7916\n",
      "Epoch 49/50\n",
      "379/379 [==============================] - 0s 25us/step - loss: 16.7527 - mae: 2.9402 - val_loss: 13.0934 - val_mae: 2.7664\n",
      "Epoch 50/50\n",
      "379/379 [==============================] - 0s 25us/step - loss: 16.5350 - mae: 2.9124 - val_loss: 12.9026 - val_mae: 2.7338\n"
     ]
    }
   ],
   "source": [
    "history = model.fit(X_train_scaled, y_train, validation_data=(X_test_scaled, y_test),\n",
    "         epochs = 50)"
   ]
  },
  {
   "cell_type": "code",
   "execution_count": 34,
   "metadata": {},
   "outputs": [
    {
     "data": {
      "text/plain": [
       "[<matplotlib.lines.Line2D at 0x7fe160c92ed0>]"
      ]
     },
     "execution_count": 34,
     "metadata": {},
     "output_type": "execute_result"
    },
    {
     "data": {
      "image/png": "[encoded data removed]",
      "text/plain": [
       "<Figure size 432x288 with 1 Axes>"
      ]
     },
     "metadata": {
      "needs_background": "light"
     },
     "output_type": "display_data"
    }
   ],
   "source": [
    "plt.plot(history.history['loss'])\n",
    "plt.plot(history.history['val_loss'])"
   ]
  },
  {
   "cell_type": "code",
   "execution_count": 35,
   "metadata": {},
   "outputs": [
    {
     "data": {
      "text/plain": [
       "[<matplotlib.lines.Line2D at 0x7fe19149ce10>]"
      ]
     },
     "execution_count": 35,
     "metadata": {},
     "output_type": "execute_result"
    },
    {
     "data": {
      "image/png": "[encoded data removed]",
      "text/plain": [
       "<Figure size 432x288 with 1 Axes>"
      ]
     },
     "metadata": {
      "needs_background": "light"
     },
     "output_type": "display_data"
    }
   ],
   "source": [
    "plt.plot(history.history['mae'])\n",
    "plt.plot(history.history['val_mae'])"
   ]
  },
  {
   "cell_type": "code",
   "execution_count": 36,
   "metadata": {},
   "outputs": [],
   "source": [
    "cancer = load_breast_cancer()"
   ]
  },
  {
   "cell_type": "code",
   "execution_count": 37,
   "metadata": {},
   "outputs": [],
   "source": [
    "X = cancer.data\n",
    "y = cancer.target"
   ]
  },
  {
   "cell_type": "code",
   "execution_count": 38,
   "metadata": {},
   "outputs": [],
   "source": [
    "model = Sequential()"
   ]
  },
  {
   "cell_type": "code",
   "execution_count": 39,
   "metadata": {},
   "outputs": [],
   "source": [
    "model.add(Dense(32, input_shape = (X.shape[1], ), activation = 'relu'))\n",
    "model.add(Dense(1, activation = 'sigmoid'))"
   ]
  },
  {
   "cell_type": "code",
   "execution_count": 40,
   "metadata": {},
   "outputs": [],
   "source": [
    "model.compile(loss = 'binary_crossentropy', optimizer='adam',\n",
    "             metrics = ['accuracy'])"
   ]
  },
  {
   "cell_type": "code",
   "execution_count": 41,
   "metadata": {},
   "outputs": [],
   "source": [
    "X_train, X_test, y_train, y_test = train_test_split(X, y)\n",
    "sscaler = StandardScaler()\n",
    "X_train_scaled = sscaler.fit_transform(X_train)\n",
    "X_test_scaled = sscaler.transform(X_test)"
   ]
  },
  {
   "cell_type": "code",
   "execution_count": 42,
   "metadata": {},
   "outputs": [],
   "source": [
    "history = model.fit(X_train_scaled, y_train, validation_data=(X_test_scaled, y_test), \n",
    "         epochs = 100, verbose = 0)"
   ]
  },
  {
   "cell_type": "code",
   "execution_count": 44,
   "metadata": {},
   "outputs": [
    {
     "data": {
      "text/plain": [
       "[<matplotlib.lines.Line2D at 0x7fe1715b1e10>]"
      ]
     },
     "execution_count": 44,
     "metadata": {},
     "output_type": "execute_result"
    },
    {
     "data": {
      "image/png": "[encoded data removed]",
      "text/plain": [
       "<Figure size 432x288 with 1 Axes>"
      ]
     },
     "metadata": {
      "needs_background": "light"
     },
     "output_type": "display_data"
    }
   ],
   "source": [
    "plt.plot(history.history['accuracy'])\n",
    "plt.plot(history.history['val_accuracy'])"
   ]
  },
  {
   "cell_type": "code",
   "execution_count": 45,
   "metadata": {},
   "outputs": [
    {
     "data": {
      "text/plain": [
       "[<matplotlib.lines.Line2D at 0x7fe160dcb210>]"
      ]
     },
     "execution_count": 45,
     "metadata": {},
     "output_type": "execute_result"
    },
    {
     "data": {
      "image/png": "[encoded data removed]",
      "text/plain": [
       "<Figure size 432x288 with 1 Axes>"
      ]
     },
     "metadata": {
      "needs_background": "light"
     },
     "output_type": "display_data"
    }
   ],
   "source": [
    "plt.plot(history.history['loss'])\n",
    "plt.plot(history.history['val_loss'])"
   ]
  },
  {
   "cell_type": "code",
   "execution_count": 46,
   "metadata": {},
   "outputs": [],
   "source": [
    "lgr = LogisticRegression()\n",
    "lgr.fit(X_train_scaled, y_train)\n",
    "preds = lgr.predict(X_test_scaled)"
   ]
  },
  {
   "cell_type": "code",
   "execution_count": 47,
   "metadata": {},
   "outputs": [],
   "source": [
    "from sklearn.metrics import accuracy_score"
   ]
  },
  {
   "cell_type": "code",
   "execution_count": 48,
   "metadata": {},
   "outputs": [
    {
     "data": {
      "text/plain": [
       "0.965034965034965"
      ]
     },
     "execution_count": 48,
     "metadata": {},
     "output_type": "execute_result"
    }
   ],
   "source": [
    "accuracy_score(y_test, preds)"
   ]
  },
  {
   "cell_type": "code",
   "execution_count": 51,
   "metadata": {},
   "outputs": [],
   "source": [
    "ann_preds = model.predict(X_test_scaled)"
   ]
  },
  {
   "cell_type": "code",
   "execution_count": 57,
   "metadata": {},
   "outputs": [],
   "source": [
    "ann_preds = np.where(ann_preds > 0.5, 1, 0)"
   ]
  },
  {
   "cell_type": "code",
   "execution_count": 58,
   "metadata": {},
   "outputs": [
    {
     "data": {
      "text/plain": [
       "0.972027972027972"
      ]
     },
     "execution_count": 58,
     "metadata": {},
     "output_type": "execute_result"
    }
   ],
   "source": [
    "accuracy_score(y_test, ann_preds)"
   ]
  },
  {
   "cell_type": "markdown",
   "metadata": {},
   "source": [
    "##### Multi-class"
   ]
  },
  {
   "cell_type": "code",
   "execution_count": 59,
   "metadata": {},
   "outputs": [],
   "source": [
    "iris = load_iris()"
   ]
  },
  {
   "cell_type": "code",
   "execution_count": 60,
   "metadata": {},
   "outputs": [],
   "source": [
    "X = iris.data\n",
    "y = iris.target"
   ]
  },
  {
   "cell_type": "code",
   "execution_count": 61,
   "metadata": {},
   "outputs": [],
   "source": [
    "X_train, X_test, y_train, y_test = train_test_split(X, y)\n",
    "sscaler = StandardScaler()\n",
    "X_train_scaled = sscaler.fit_transform(X_train)\n",
    "X_test_scaled = sscaler.transform(X_test)"
   ]
  },
  {
   "cell_type": "code",
   "execution_count": 62,
   "metadata": {},
   "outputs": [],
   "source": [
    "model = Sequential()"
   ]
  },
  {
   "cell_type": "code",
   "execution_count": 63,
   "metadata": {},
   "outputs": [],
   "source": [
    "model.add(Dense(32, input_shape = (X.shape[1], ), activation = 'relu'))\n",
    "model.add(Dense(3, activation = 'softmax'))"
   ]
  },
  {
   "cell_type": "code",
   "execution_count": 64,
   "metadata": {},
   "outputs": [],
   "source": [
    "model.compile(loss='categorical_crossentropy', optimizer='adam',\n",
    "             metrics = ['accuracy'])"
   ]
  },
  {
   "cell_type": "code",
   "execution_count": 66,
   "metadata": {},
   "outputs": [
    {
     "data": {
      "text/plain": [
       "(112,)"
      ]
     },
     "execution_count": 66,
     "metadata": {},
     "output_type": "execute_result"
    }
   ],
   "source": [
    "y_train.shape"
   ]
  },
  {
   "cell_type": "code",
   "execution_count": 67,
   "metadata": {},
   "outputs": [],
   "source": [
    "from sklearn.preprocessing import OneHotEncoder"
   ]
  },
  {
   "cell_type": "code",
   "execution_count": 69,
   "metadata": {},
   "outputs": [],
   "source": [
    "ohe = OneHotEncoder()\n",
    "y_train = ohe.fit_transform(y_train.reshape(-1,1))\n",
    "y_test = ohe.transform(y_test.reshape(-1,1))"
   ]
  },
  {
   "cell_type": "code",
   "execution_count": 70,
   "metadata": {},
   "outputs": [],
   "source": [
    "history = model.fit(X_train_scaled, y_train, validation_data = (X_test_scaled, y_test),\n",
    "                   epochs = 100, verbose = 0)"
   ]
  },
  {
   "cell_type": "code",
   "execution_count": 71,
   "metadata": {},
   "outputs": [
    {
     "data": {
      "text/plain": [
       "[<matplotlib.lines.Line2D at 0x7fe1b3b1bb50>]"
      ]
     },
     "execution_count": 71,
     "metadata": {},
     "output_type": "execute_result"
    },
    {
     "data": {
      "image/png": "[encoded data removed]",
      "text/plain": [
       "<Figure size 432x288 with 1 Axes>"
      ]
     },
     "metadata": {
      "needs_background": "light"
     },
     "output_type": "display_data"
    }
   ],
   "source": [
    "plt.plot(history.history['accuracy'])\n",
    "plt.plot(history.history['val_accuracy'])"
   ]
  },
  {
   "cell_type": "code",
   "execution_count": 72,
   "metadata": {},
   "outputs": [
    {
     "data": {
      "text/plain": [
       "[<matplotlib.lines.Line2D at 0x7fe179d769d0>]"
      ]
     },
     "execution_count": 72,
     "metadata": {},
     "output_type": "execute_result"
    },
    {
     "data": {
      "image/png": "[encoded data removed]",
      "text/plain": [
       "<Figure size 432x288 with 1 Axes>"
      ]
     },
     "metadata": {
      "needs_background": "light"
     },
     "output_type": "display_data"
    }
   ],
   "source": [
    "plt.plot(history.history['loss'])\n",
    "plt.plot(history.history['val_loss'])"
   ]
  },
  {
   "cell_type": "code",
   "execution_count": null,
   "metadata": {},
   "outputs": [],
   "source": []
  }
 ],
 "metadata": {
  "kernelspec": {
   "display_name": "Python 3",
   "language": "python",
   "name": "python3"
  },
  "language_info": {
   "codemirror_mode": {
    "name": "ipython",
    "version": 3
   },
   "file_extension": ".py",
   "mimetype": "text/x-python",
   "name": "python",
   "nbconvert_exporter": "python",
   "pygments_lexer": "ipython3",
   "version": "3.7.4"
  },
  "widgets": {
   "application/vnd.jupyter.widget-state+json": {
    "state": {},
    "version_major": 2,
    "version_minor": 0
   }
  }
 },
 "nbformat": 4,
 "nbformat_minor": 4
}
