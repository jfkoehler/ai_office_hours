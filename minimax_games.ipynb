{
 "cells": [
  {
   "cell_type": "code",
   "execution_count": 2,
   "metadata": {},
   "outputs": [],
   "source": [
    "%matplotlib inline\n",
    "import matplotlib.pyplot as plt\n",
    "import pandas as pd\n",
    "import numpy as np"
   ]
  },
  {
   "cell_type": "code",
   "execution_count": 3,
   "metadata": {},
   "outputs": [],
   "source": [
    "def update(heaps, pile, chips):\n",
    "    heaps = list(heaps)\n",
    "    heaps[pile] -= chips\n",
    "    return tuple(heaps)"
   ]
  },
  {
   "cell_type": "code",
   "execution_count": 4,
   "metadata": {},
   "outputs": [],
   "source": [
    "def get_moves(heaps):\n",
    "    moves = []\n",
    "    for pile, count in enumerate(heaps):\n",
    "        for i in range(1, count + 1):\n",
    "            moves.append(update(heaps, pile, i))\n",
    "    return moves"
   ]
  },
  {
   "cell_type": "code",
   "execution_count": 5,
   "metadata": {},
   "outputs": [],
   "source": [
    "def nim(heaps):\n",
    "    if heaps == (0, 0, 0):\n",
    "        return True\n",
    "    moves = get_moves(heaps)\n",
    "    return any([nim(move) != True for move in moves])"
   ]
  },
  {
   "cell_type": "code",
   "execution_count": 7,
   "metadata": {},
   "outputs": [
    {
     "data": {
      "text/plain": [
       "True"
      ]
     },
     "execution_count": 7,
     "metadata": {},
     "output_type": "execute_result"
    }
   ],
   "source": [
    "nim((1,1,2))"
   ]
  },
  {
   "cell_type": "code",
   "execution_count": 8,
   "metadata": {},
   "outputs": [],
   "source": [
    "from itertools import combinations"
   ]
  },
  {
   "cell_type": "code",
   "execution_count": 9,
   "metadata": {},
   "outputs": [
    {
     "data": {
      "text/plain": [
       "<itertools.combinations at 0x7f9ae0535890>"
      ]
     },
     "execution_count": 9,
     "metadata": {},
     "output_type": "execute_result"
    }
   ],
   "source": [
    "combinations(range(3), 3)"
   ]
  },
  {
   "cell_type": "code",
   "execution_count": 22,
   "metadata": {},
   "outputs": [],
   "source": [
    "list(combinations(range(1, 6), 3))\n",
    "boards = list(combinations(range(1, 6), 3))"
   ]
  },
  {
   "cell_type": "code",
   "execution_count": 23,
   "metadata": {},
   "outputs": [],
   "source": [
    "winners = []\n",
    "losers = []\n",
    "for i in boards:\n",
    "    if nim(i):\n",
    "        winners.append(i)\n",
    "    else:\n",
    "        losers.append(i)  "
   ]
  },
  {
   "cell_type": "code",
   "execution_count": 24,
   "metadata": {},
   "outputs": [
    {
     "data": {
      "text/plain": [
       "[(1, 2, 4),\n",
       " (1, 2, 5),\n",
       " (1, 3, 4),\n",
       " (1, 3, 5),\n",
       " (2, 3, 4),\n",
       " (2, 3, 5),\n",
       " (2, 4, 5),\n",
       " (3, 4, 5)]"
      ]
     },
     "execution_count": 24,
     "metadata": {},
     "output_type": "execute_result"
    }
   ],
   "source": [
    "winners"
   ]
  },
  {
   "cell_type": "code",
   "execution_count": 25,
   "metadata": {},
   "outputs": [
    {
     "data": {
      "text/plain": [
       "[(1, 2, 3), (1, 4, 5)]"
      ]
     },
     "execution_count": 25,
     "metadata": {},
     "output_type": "execute_result"
    }
   ],
   "source": [
    "losers"
   ]
  },
  {
   "cell_type": "code",
   "execution_count": 26,
   "metadata": {},
   "outputs": [],
   "source": [
    "from easyAI import TwoPlayersGame"
   ]
  },
  {
   "cell_type": "code",
   "execution_count": 27,
   "metadata": {},
   "outputs": [],
   "source": [
    "class Nim(TwoPlayersGame):\n",
    "    \n",
    "    def __init__(self, players, piles = None):\n",
    "        self.players = players\n",
    "        self.piles = piles if (piles != None) else [5, 5, 5, 5]\n",
    "        self.nplayer = 1 \n",
    "        \n",
    "    def possible_moves(self):\n",
    "        return [f'{i + 1, j}' for i in range(len(self.piles)) for j in range(1, self.piles[i] + 1)]\n",
    "        \n",
    "    def make_move(self, move):\n",
    "        move = list(map(int, move.split(',')))\n",
    "        self.piles[move[0] - 1] -= move[1]\n",
    "        \n",
    "    def show(self): print(\" \".join(map(str, self.piles)))\n",
    "        \n",
    "    \n",
    "    def win(self): return max(self.piles) == 0\n",
    "    \n",
    "    def is_over(self): return self.win()\n",
    "    \n",
    "    def scoring(self): return 100 if self.win() else 0"
   ]
  },
  {
   "cell_type": "code",
   "execution_count": 28,
   "metadata": {},
   "outputs": [],
   "source": [
    "from easyAI import AI_Player, Human_Player, Negamax, id_solve"
   ]
  },
  {
   "cell_type": "code",
   "execution_count": 29,
   "metadata": {},
   "outputs": [
    {
     "ename": "ValueError",
     "evalue": "invalid literal for int() with base 10: '(1'",
     "output_type": "error",
     "traceback": [
      "\u001b[0;31m---------------------------------------------------------------------------\u001b[0m",
      "\u001b[0;31mValueError\u001b[0m                                Traceback (most recent call last)",
      "\u001b[0;32m<ipython-input-29-a0d552474466>\u001b[0m in \u001b[0;36m<module>\u001b[0;34m\u001b[0m\n\u001b[0;32m----> 1\u001b[0;31m \u001b[0mid_solve\u001b[0m\u001b[0;34m(\u001b[0m\u001b[0mNim\u001b[0m\u001b[0;34m,\u001b[0m \u001b[0mrange\u001b[0m\u001b[0;34m(\u001b[0m\u001b[0;36m5\u001b[0m\u001b[0;34m,\u001b[0m \u001b[0;36m20\u001b[0m\u001b[0;34m)\u001b[0m\u001b[0;34m,\u001b[0m \u001b[0mwin_score\u001b[0m \u001b[0;34m=\u001b[0m \u001b[0;36m60\u001b[0m\u001b[0;34m)\u001b[0m\u001b[0;34m\u001b[0m\u001b[0;34m\u001b[0m\u001b[0m\n\u001b[0m",
      "\u001b[0;32m~/opt/anaconda3/lib/python3.7/site-packages/easyAI/AI/solving.py\u001b[0m in \u001b[0;36mid_solve\u001b[0;34m(game, ai_depths, win_score, scoring, tt, verbose)\u001b[0m\n\u001b[1;32m     68\u001b[0m     \u001b[0;32mfor\u001b[0m \u001b[0mdepth\u001b[0m \u001b[0;32min\u001b[0m \u001b[0mai_depths\u001b[0m\u001b[0;34m:\u001b[0m\u001b[0;34m\u001b[0m\u001b[0;34m\u001b[0m\u001b[0m\n\u001b[1;32m     69\u001b[0m         \u001b[0mai\u001b[0m \u001b[0;34m=\u001b[0m \u001b[0mNegamax\u001b[0m\u001b[0;34m(\u001b[0m\u001b[0mdepth\u001b[0m\u001b[0;34m,\u001b[0m \u001b[0mscoring\u001b[0m\u001b[0;34m,\u001b[0m \u001b[0mtt\u001b[0m\u001b[0;34m=\u001b[0m \u001b[0mtt\u001b[0m\u001b[0;34m)\u001b[0m\u001b[0;34m\u001b[0m\u001b[0;34m\u001b[0m\u001b[0m\n\u001b[0;32m---> 70\u001b[0;31m         \u001b[0mai\u001b[0m\u001b[0;34m(\u001b[0m\u001b[0mgame\u001b[0m\u001b[0;34m)\u001b[0m\u001b[0;34m\u001b[0m\u001b[0;34m\u001b[0m\u001b[0m\n\u001b[0m\u001b[1;32m     71\u001b[0m         \u001b[0malpha\u001b[0m \u001b[0;34m=\u001b[0m \u001b[0mai\u001b[0m\u001b[0;34m.\u001b[0m\u001b[0malpha\u001b[0m\u001b[0;34m\u001b[0m\u001b[0;34m\u001b[0m\u001b[0m\n\u001b[1;32m     72\u001b[0m         \u001b[0;32mif\u001b[0m \u001b[0mverbose\u001b[0m\u001b[0;34m:\u001b[0m\u001b[0;34m\u001b[0m\u001b[0;34m\u001b[0m\u001b[0m\n",
      "\u001b[0;32m~/opt/anaconda3/lib/python3.7/site-packages/easyAI/AI/Negamax.py\u001b[0m in \u001b[0;36m__call__\u001b[0;34m(self, game)\u001b[0m\n\u001b[1;32m    180\u001b[0m \u001b[0;34m\u001b[0m\u001b[0m\n\u001b[1;32m    181\u001b[0m         self.alpha = negamax(game, self.depth, self.depth, scoring,\n\u001b[0;32m--> 182\u001b[0;31m                      -self.win_score, +self.win_score, self.tt)\n\u001b[0m\u001b[1;32m    183\u001b[0m         \u001b[0;32mreturn\u001b[0m \u001b[0mgame\u001b[0m\u001b[0;34m.\u001b[0m\u001b[0mai_move\u001b[0m\u001b[0;34m\u001b[0m\u001b[0;34m\u001b[0m\u001b[0m\n",
      "\u001b[0;32m~/opt/anaconda3/lib/python3.7/site-packages/easyAI/AI/Negamax.py\u001b[0m in \u001b[0;36mnegamax\u001b[0;34m(game, depth, origDepth, scoring, alpha, beta, tt)\u001b[0m\n\u001b[1;32m     79\u001b[0m             \u001b[0mgame\u001b[0m \u001b[0;34m=\u001b[0m \u001b[0mstate\u001b[0m\u001b[0;34m.\u001b[0m\u001b[0mcopy\u001b[0m\u001b[0;34m(\u001b[0m\u001b[0;34m)\u001b[0m \u001b[0;31m# re-initialize move\u001b[0m\u001b[0;34m\u001b[0m\u001b[0;34m\u001b[0m\u001b[0m\n\u001b[1;32m     80\u001b[0m \u001b[0;34m\u001b[0m\u001b[0m\n\u001b[0;32m---> 81\u001b[0;31m         \u001b[0mgame\u001b[0m\u001b[0;34m.\u001b[0m\u001b[0mmake_move\u001b[0m\u001b[0;34m(\u001b[0m\u001b[0mmove\u001b[0m\u001b[0;34m)\u001b[0m\u001b[0;34m\u001b[0m\u001b[0;34m\u001b[0m\u001b[0m\n\u001b[0m\u001b[1;32m     82\u001b[0m         \u001b[0mgame\u001b[0m\u001b[0;34m.\u001b[0m\u001b[0mswitch_player\u001b[0m\u001b[0;34m(\u001b[0m\u001b[0;34m)\u001b[0m\u001b[0;34m\u001b[0m\u001b[0;34m\u001b[0m\u001b[0m\n\u001b[1;32m     83\u001b[0m \u001b[0;34m\u001b[0m\u001b[0m\n",
      "\u001b[0;32m<ipython-input-27-cb0327011fd0>\u001b[0m in \u001b[0;36mmake_move\u001b[0;34m(self, move)\u001b[0m\n\u001b[1;32m     10\u001b[0m \u001b[0;34m\u001b[0m\u001b[0m\n\u001b[1;32m     11\u001b[0m     \u001b[0;32mdef\u001b[0m \u001b[0mmake_move\u001b[0m\u001b[0;34m(\u001b[0m\u001b[0mself\u001b[0m\u001b[0;34m,\u001b[0m \u001b[0mmove\u001b[0m\u001b[0;34m)\u001b[0m\u001b[0;34m:\u001b[0m\u001b[0;34m\u001b[0m\u001b[0;34m\u001b[0m\u001b[0m\n\u001b[0;32m---> 12\u001b[0;31m         \u001b[0mmove\u001b[0m \u001b[0;34m=\u001b[0m \u001b[0mlist\u001b[0m\u001b[0;34m(\u001b[0m\u001b[0mmap\u001b[0m\u001b[0;34m(\u001b[0m\u001b[0mint\u001b[0m\u001b[0;34m,\u001b[0m \u001b[0mmove\u001b[0m\u001b[0;34m.\u001b[0m\u001b[0msplit\u001b[0m\u001b[0;34m(\u001b[0m\u001b[0;34m','\u001b[0m\u001b[0;34m)\u001b[0m\u001b[0;34m)\u001b[0m\u001b[0;34m)\u001b[0m\u001b[0;34m\u001b[0m\u001b[0;34m\u001b[0m\u001b[0m\n\u001b[0m\u001b[1;32m     13\u001b[0m         \u001b[0mself\u001b[0m\u001b[0;34m.\u001b[0m\u001b[0mpiles\u001b[0m\u001b[0;34m[\u001b[0m\u001b[0mmove\u001b[0m\u001b[0;34m[\u001b[0m\u001b[0;36m0\u001b[0m\u001b[0;34m]\u001b[0m \u001b[0;34m-\u001b[0m \u001b[0;36m1\u001b[0m\u001b[0;34m]\u001b[0m \u001b[0;34m-=\u001b[0m \u001b[0mmove\u001b[0m\u001b[0;34m[\u001b[0m\u001b[0;36m1\u001b[0m\u001b[0;34m]\u001b[0m\u001b[0;34m\u001b[0m\u001b[0;34m\u001b[0m\u001b[0m\n\u001b[1;32m     14\u001b[0m \u001b[0;34m\u001b[0m\u001b[0m\n",
      "\u001b[0;31mValueError\u001b[0m: invalid literal for int() with base 10: '(1'"
     ]
    }
   ],
   "source": [
    "id_solve(Nim, range(5, 20), win_score = 60)"
   ]
  },
  {
   "cell_type": "code",
   "execution_count": 30,
   "metadata": {},
   "outputs": [],
   "source": [
    "class Nim(TwoPlayersGame):\n",
    "    \"\"\"\n",
    "    The game starts with 4 piles of 5 pieces. In turn the players\n",
    "    remove as much pieces as they want, but from one pile only. The\n",
    "    player that removes the last piece loses.\n",
    "    \n",
    "    Arguments:\n",
    "    \n",
    "    - players: the players...\n",
    "    - piles: the piles the game starts with. With piles=[2,3,4,4] the\n",
    "      game will start with 1 pile of 2 pieces, 1 pile of 3 pieces, and 2\n",
    "      piles of 4 pieces. If set to None, the default will be [5,5,5,5]\n",
    "      \n",
    "    \"\"\"\n",
    "\n",
    "    def __init__(self, players, piles = None):\n",
    "        \"\"\" Default for `piles` is 5 piles of 5 pieces. \"\"\"\n",
    "        self.players = players\n",
    "        self.piles = piles if (piles != None) else [5, 5, 5, 5]\n",
    "        self.nplayer = 1 # player 1 starts.\n",
    "\n",
    "    def possible_moves(self):\n",
    "        return [\"%d,%d\" % (i + 1, j) for i in range(len(self.piles))\n",
    "                for j in range(1, self.piles[i] + 1)]\n",
    "\n",
    "    def make_move(self, move):\n",
    "        move = list(map(int, move.split(',')))\n",
    "        self.piles[move[0] - 1] -= move[1]\n",
    "\n",
    "    def unmake_move(self, move): # optional, speeds up the AI\n",
    "        move = list(map(int, move.split(',')))\n",
    "        self.piles[move[0] - 1] += move[1]\n",
    "\n",
    "    def show(self): print(\" \".join(map(str, self.piles)))\n",
    "\n",
    "    def win(self): return max(self.piles) == 0\n",
    "\n",
    "    def is_over(self): return self.win()\n",
    "\n",
    "    def scoring(self): return 100 if self.win() else 0\n",
    "\n",
    "    def ttentry(self): return tuple(self.piles) #optional, speeds up AI"
   ]
  },
  {
   "cell_type": "code",
   "execution_count": null,
   "metadata": {},
   "outputs": [],
   "source": [
    "from easyAI import AI_Player, Human_Player, Negamax, id_solve\n",
    "from easyAI.AI import TT\n",
    "# we first solve the game\n",
    "w, d, m, tt = id_solve(Nim, range(5, 20), win_score = 80)\n",
    "print(w, d, len(tt.d))\n",
    "# the previous line prints -1, 16 which shows that if the\n",
    "# computer plays second with an AI depth of 16 (or 15) it will\n",
    "# always win in 16 (total) moves or less.\n",
    "\n"
   ]
  },
  {
   "cell_type": "code",
   "execution_count": null,
   "metadata": {},
   "outputs": [],
   "source": [
    "# Now let's play (and lose !) against the AI\n",
    "ai = Negamax(16, tt = TT())\n",
    "game = Nim([Human_Player(), AI_Player(tt)])\n",
    "game.play() # You will always lose this game !\n",
    "print(\"player %d wins\" % game.nplayer)"
   ]
  }
 ],
 "metadata": {
  "kernelspec": {
   "display_name": "Python 3",
   "language": "python",
   "name": "python3"
  },
  "language_info": {
   "codemirror_mode": {
    "name": "ipython",
    "version": 3
   },
   "file_extension": ".py",
   "mimetype": "text/x-python",
   "name": "python",
   "nbconvert_exporter": "python",
   "pygments_lexer": "ipython3",
   "version": "3.7.4"
  },
  "widgets": {
   "application/vnd.jupyter.widget-state+json": {
    "state": {},
    "version_major": 2,
    "version_minor": 0
   }
  }
 },
 "nbformat": 4,
 "nbformat_minor": 4
}
