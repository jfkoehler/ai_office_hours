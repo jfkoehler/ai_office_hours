{
 "cells": [
  {
   "cell_type": "markdown",
   "metadata": {},
   "source": [
    "# Introduction to Data\n",
    "\n",
    "Today our goals are to understand how we can load and explore data in three different formats -- Google Sheets, SPSS, and Python.  In addition to being able to load data using these sources we will explore datatypes and begin exploring different data sources.  By the end of this lesson students should be able to:\n",
    "\n",
    "- Load and interact with `.csv` files using google sheets, spss, and python\n",
    "- Determine and describe data types\n",
    "- Determine and describe missing data"
   ]
  },
  {
   "cell_type": "markdown",
   "metadata": {},
   "source": [
    "## Data and Data Files\n",
    "\n",
    "To start, we will practice opening data with google drive.  First, we want to open a dataset from the Gapminder organization [here](https://docs.google.com/spreadsheets/d/1-iFlIHA79TyivLvlc2615KEQLpx6CeF48wG1pUUE3EM/edit?usp=sharing).  You should see something like the screen below when you open the file:\n",
    "\n",
    "![](images/unit_1/d1p1.png)"
   ]
  },
  {
   "cell_type": "markdown",
   "metadata": {},
   "source": [
    "**QUESTIONS**\n",
    "\n",
    "1. What information is contained in the dataset?\n",
    "2. What does each row represent?\n",
    "3. What do the columns represent?\n",
    "4. Are there different kinds of data? Explain.\n",
    "5. Where is the country Chad located in the data?\n",
    "6. Where is the information on GDP in the year 2002?\n",
    "7. What is one question you could answer using this data?"
   ]
  },
  {
   "cell_type": "markdown",
   "metadata": {},
   "source": [
    "**Data and Data Types**\n",
    "\n",
    "Now let's examine a dataset dealing with drinking around the world [here](https://docs.google.com/spreadsheets/d/1_aZKwlITGUzItx9DFx_fYjxYvqOWxydk_THz7UBL6zw/edit?usp=sharing).  \n",
    "\n",
    "1. Identify the data type of each column:\n",
    "\n",
    "- Object or Category\n",
    "- Integer or Count\n",
    "- Float or Continuous\n",
    "\n",
    "2. What is one question you could answer using this data?\n",
    "3. What is the fastest way to find the USA data?\n",
    "4. Can you limit the data to only EU countries?\n",
    "5. What country drinks the most wine?\n",
    "\n",
    "\n"
   ]
  },
  {
   "cell_type": "code",
   "execution_count": null,
   "metadata": {},
   "outputs": [],
   "source": []
  },
  {
   "cell_type": "code",
   "execution_count": null,
   "metadata": {},
   "outputs": [],
   "source": []
  },
  {
   "cell_type": "code",
   "execution_count": null,
   "metadata": {},
   "outputs": [],
   "source": []
  },
  {
   "cell_type": "code",
   "execution_count": null,
   "metadata": {},
   "outputs": [],
   "source": []
  },
  {
   "cell_type": "code",
   "execution_count": null,
   "metadata": {},
   "outputs": [],
   "source": []
  }
 ],
 "metadata": {
  "kernelspec": {
   "display_name": "Python 3",
   "language": "python",
   "name": "python3"
  },
  "language_info": {
   "codemirror_mode": {
    "name": "ipython",
    "version": 3
   },
   "file_extension": ".py",
   "mimetype": "text/x-python",
   "name": "python",
   "nbconvert_exporter": "python",
   "pygments_lexer": "ipython3",
   "version": "3.7.4"
  }
 },
 "nbformat": 4,
 "nbformat_minor": 4
}
