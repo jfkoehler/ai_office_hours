{
 "cells": [
  {
   "cell_type": "markdown",
   "metadata": {},
   "source": [
    "### Scraping Webpages"
   ]
  },
  {
   "cell_type": "code",
   "execution_count": 69,
   "metadata": {},
   "outputs": [],
   "source": [
    "url = 'http://maximumrocknroll.com/reviews/'"
   ]
  },
  {
   "cell_type": "code",
   "execution_count": 70,
   "metadata": {},
   "outputs": [],
   "source": [
    "import requests\n",
    "from bs4 import BeautifulSoup"
   ]
  },
  {
   "cell_type": "code",
   "execution_count": 71,
   "metadata": {},
   "outputs": [],
   "source": [
    "r = requests.get(url)"
   ]
  },
  {
   "cell_type": "code",
   "execution_count": 72,
   "metadata": {},
   "outputs": [],
   "source": [
    "soup = BeautifulSoup(r.text, 'lxml')"
   ]
  },
  {
   "cell_type": "code",
   "execution_count": 73,
   "metadata": {},
   "outputs": [
    {
     "data": {
      "text/plain": [
       "<Response [200]>"
      ]
     },
     "execution_count": 73,
     "metadata": {},
     "output_type": "execute_result"
    }
   ],
   "source": [
    "r"
   ]
  },
  {
   "cell_type": "code",
   "execution_count": 119,
   "metadata": {},
   "outputs": [
    {
     "data": {
      "text/plain": [
       "'http://maximumrocknroll.com/wp-content/themes/frontwards/images/Maximum-Rocknroll.png'"
      ]
     },
     "execution_count": 119,
     "metadata": {},
     "output_type": "execute_result"
    }
   ],
   "source": [
    "soup.find('img').attrs['src']"
   ]
  },
  {
   "cell_type": "code",
   "execution_count": 98,
   "metadata": {},
   "outputs": [],
   "source": [
    "title_tags = soup.find_all('h3')"
   ]
  },
  {
   "cell_type": "code",
   "execution_count": 99,
   "metadata": {},
   "outputs": [
    {
     "data": {
      "text/plain": [
       "<h3 class=\"review-title\">\n",
       "<a href=\"http://maximumrocknroll.com/band/axe-rash/\">\n",
       "\t\t\t\t\t\t\t\t\t\t\t\t\tAxe Rash\t\t\t\t\t\t\t\t\t\t\t\t\t\t\t\t\t\t\t\t\t\t\t\t\t</a>\n",
       "<span>\n",
       "\t\t\t\t\t\t\t\t\t\t\tAxe Rash LP\t\t\t\t\t\t\t\t\t\t\t\t\t\t\t\t\t\t\t\t\t</span>\n",
       "</h3>"
      ]
     },
     "execution_count": 99,
     "metadata": {},
     "output_type": "execute_result"
    }
   ],
   "source": [
    "title_tags[0]"
   ]
  },
  {
   "cell_type": "code",
   "execution_count": 100,
   "metadata": {},
   "outputs": [
    {
     "data": {
      "text/plain": [
       "'Axe Rash'"
      ]
     },
     "execution_count": 100,
     "metadata": {},
     "output_type": "execute_result"
    }
   ],
   "source": [
    "title_tags[0].a.text.strip()"
   ]
  },
  {
   "cell_type": "code",
   "execution_count": 121,
   "metadata": {},
   "outputs": [],
   "source": [
    "titles = [title.a.text.strip() for title in title_tags]\n",
    "records = [title.span.text.strip() for title in title_tags]\n",
    "reviews = soup.find_all('div', {'class': 'column-8'})\n",
    "reivews = [review.p.text for review in reviews]\n",
    "#image_urls = [a.img.attrs['src'] for a in title_tags]"
   ]
  },
  {
   "cell_type": "code",
   "execution_count": 105,
   "metadata": {},
   "outputs": [],
   "source": [
    "import pandas as pd\n",
    "mrr_df = pd.DataFrame({'artist': titles,\n",
    "             'album': records,\n",
    "             'review': reivews})"
   ]
  },
  {
   "cell_type": "code",
   "execution_count": 106,
   "metadata": {},
   "outputs": [
    {
     "data": {
      "text/html": [
       "<div>\n",
       "<style scoped>\n",
       "    .dataframe tbody tr th:only-of-type {\n",
       "        vertical-align: middle;\n",
       "    }\n",
       "\n",
       "    .dataframe tbody tr th {\n",
       "        vertical-align: top;\n",
       "    }\n",
       "\n",
       "    .dataframe thead th {\n",
       "        text-align: right;\n",
       "    }\n",
       "</style>\n",
       "<table border=\"1\" class=\"dataframe\">\n",
       "  <thead>\n",
       "    <tr style=\"text-align: right;\">\n",
       "      <th></th>\n",
       "      <th>artist</th>\n",
       "      <th>album</th>\n",
       "      <th>review</th>\n",
       "    </tr>\n",
       "  </thead>\n",
       "  <tbody>\n",
       "    <tr>\n",
       "      <td>0</td>\n",
       "      <td>Axe Rash</td>\n",
       "      <td>Axe Rash LP</td>\n",
       "      <td>There are records I listen to having only one ...</td>\n",
       "    </tr>\n",
       "    <tr>\n",
       "      <td>1</td>\n",
       "      <td>Bent Out of Shape</td>\n",
       "      <td>Demo 2020 CD</td>\n",
       "      <td>First release from this streetpunk outfit hail...</td>\n",
       "    </tr>\n",
       "    <tr>\n",
       "      <td>2</td>\n",
       "      <td>Cankro /</td>\n",
       "      <td>Split LP</td>\n",
       "      <td>Oh, a split made for VIDRO’s Brazilian tour, o...</td>\n",
       "    </tr>\n",
       "    <tr>\n",
       "      <td>3</td>\n",
       "      <td>Cock Pliers</td>\n",
       "      <td>Sex Traffic Rush Hour LP</td>\n",
       "      <td>Blasting grind insanity that asks more questio...</td>\n",
       "    </tr>\n",
       "    <tr>\n",
       "      <td>4</td>\n",
       "      <td>Cold Meat</td>\n",
       "      <td>Hot and Flustered LP</td>\n",
       "      <td>Perth’s COLD MEAT were practically perfect fro...</td>\n",
       "    </tr>\n",
       "  </tbody>\n",
       "</table>\n",
       "</div>"
      ],
      "text/plain": [
       "              artist                     album  \\\n",
       "0           Axe Rash               Axe Rash LP   \n",
       "1  Bent Out of Shape              Demo 2020 CD   \n",
       "2           Cankro /                  Split LP   \n",
       "3        Cock Pliers  Sex Traffic Rush Hour LP   \n",
       "4          Cold Meat      Hot and Flustered LP   \n",
       "\n",
       "                                              review  \n",
       "0  There are records I listen to having only one ...  \n",
       "1  First release from this streetpunk outfit hail...  \n",
       "2  Oh, a split made for VIDRO’s Brazilian tour, o...  \n",
       "3  Blasting grind insanity that asks more questio...  \n",
       "4  Perth’s COLD MEAT were practically perfect fro...  "
      ]
     },
     "execution_count": 106,
     "metadata": {},
     "output_type": "execute_result"
    }
   ],
   "source": [
    "mrr_df.head()"
   ]
  },
  {
   "cell_type": "code",
   "execution_count": 107,
   "metadata": {},
   "outputs": [],
   "source": [
    "from textblob import TextBlob"
   ]
  },
  {
   "cell_type": "code",
   "execution_count": 108,
   "metadata": {},
   "outputs": [],
   "source": [
    "review_1 = mrr_df.review[0]"
   ]
  },
  {
   "cell_type": "code",
   "execution_count": 110,
   "metadata": {},
   "outputs": [],
   "source": [
    "blob = TextBlob(review_1)"
   ]
  },
  {
   "cell_type": "code",
   "execution_count": 113,
   "metadata": {},
   "outputs": [
    {
     "data": {
      "text/plain": [
       "0.13277310924369745"
      ]
     },
     "execution_count": 113,
     "metadata": {},
     "output_type": "execute_result"
    }
   ],
   "source": [
    "blob.polarity"
   ]
  },
  {
   "cell_type": "code",
   "execution_count": 114,
   "metadata": {},
   "outputs": [],
   "source": [
    "def polarity_maker(x):\n",
    "    blob = TextBlob(x)\n",
    "    return blob.polarity"
   ]
  },
  {
   "cell_type": "code",
   "execution_count": 115,
   "metadata": {},
   "outputs": [],
   "source": [
    "mrr_df['polarity'] = mrr_df['review'].apply(polarity_maker)"
   ]
  },
  {
   "cell_type": "code",
   "execution_count": 117,
   "metadata": {},
   "outputs": [
    {
     "data": {
      "text/html": [
       "<div>\n",
       "<style scoped>\n",
       "    .dataframe tbody tr th:only-of-type {\n",
       "        vertical-align: middle;\n",
       "    }\n",
       "\n",
       "    .dataframe tbody tr th {\n",
       "        vertical-align: top;\n",
       "    }\n",
       "\n",
       "    .dataframe thead th {\n",
       "        text-align: right;\n",
       "    }\n",
       "</style>\n",
       "<table border=\"1\" class=\"dataframe\">\n",
       "  <thead>\n",
       "    <tr style=\"text-align: right;\">\n",
       "      <th></th>\n",
       "      <th>artist</th>\n",
       "      <th>album</th>\n",
       "      <th>review</th>\n",
       "      <th>polarity</th>\n",
       "    </tr>\n",
       "  </thead>\n",
       "  <tbody>\n",
       "    <tr>\n",
       "      <td>33</td>\n",
       "      <td>Payday</td>\n",
       "      <td>Second to None LP</td>\n",
       "      <td>PAYDAY from London is named after the CONFRONT...</td>\n",
       "      <td>0.428571</td>\n",
       "    </tr>\n",
       "    <tr>\n",
       "      <td>26</td>\n",
       "      <td>Haircut</td>\n",
       "      <td>Sensation EP</td>\n",
       "      <td>When that two-step part comes back in with the...</td>\n",
       "      <td>0.319167</td>\n",
       "    </tr>\n",
       "  </tbody>\n",
       "</table>\n",
       "</div>"
      ],
      "text/plain": [
       "     artist              album  \\\n",
       "33   Payday  Second to None LP   \n",
       "26  Haircut       Sensation EP   \n",
       "\n",
       "                                               review  polarity  \n",
       "33  PAYDAY from London is named after the CONFRONT...  0.428571  \n",
       "26  When that two-step part comes back in with the...  0.319167  "
      ]
     },
     "execution_count": 117,
     "metadata": {},
     "output_type": "execute_result"
    }
   ],
   "source": [
    "mrr_df.nlargest(2, 'polarity')"
   ]
  },
  {
   "cell_type": "code",
   "execution_count": 85,
   "metadata": {},
   "outputs": [
    {
     "data": {
      "text/plain": [
       "['Axe Rash',\n",
       " 'Bent Out of Shape',\n",
       " 'Cankro /',\n",
       " 'Cock Pliers',\n",
       " 'Cold Meat',\n",
       " 'Concrete Sox',\n",
       " 'Sam Egan and the Perineal Excoriations',\n",
       " 'Enemy',\n",
       " 'Fractured',\n",
       " 'Fried E.M.',\n",
       " 'Hank Wood and the Hammerheads',\n",
       " 'Mynustheckat',\n",
       " 'Nape Neck',\n",
       " 'No Class',\n",
       " 'Pässilauma',\n",
       " 'The Prissteens',\n",
       " 'Tuono',\n",
       " 'Use No Hooks',\n",
       " 'Veto',\n",
       " 'Whip',\n",
       " 'The Apostles /',\n",
       " 'Black Uniforms',\n",
       " 'Body Farm /',\n",
       " 'Chaos UK',\n",
       " 'Walter Daniels and the Hungry Hearts',\n",
       " 'Discharge',\n",
       " 'Haircut',\n",
       " 'Kathabuta',\n",
       " 'Kaleidoscope',\n",
       " 'Klonns',\n",
       " 'Muro /',\n",
       " 'Night Slaves',\n",
       " 'P22',\n",
       " 'Payday',\n",
       " 'Pink Guitars',\n",
       " 'Protruders',\n",
       " 'Psycho Sin',\n",
       " 'Sadie & the Wives',\n",
       " 'Strul',\n",
       " 'V/A',\n",
       " 'V/A',\n",
       " 'Affect',\n",
       " 'The Annihilated',\n",
       " 'Beating',\n",
       " 'Blinded Humanity',\n",
       " 'Cat Scan',\n",
       " 'Corridor People',\n",
       " 'Ex-White',\n",
       " 'Farmaco',\n",
       " 'Genogeist']"
      ]
     },
     "execution_count": 85,
     "metadata": {},
     "output_type": "execute_result"
    }
   ],
   "source": [
    "titles"
   ]
  },
  {
   "cell_type": "code",
   "execution_count": 91,
   "metadata": {},
   "outputs": [
    {
     "data": {
      "text/plain": [
       "'\\n'"
      ]
     },
     "execution_count": 91,
     "metadata": {},
     "output_type": "execute_result"
    }
   ],
   "source": [
    "soup.find('h3').next_sibling"
   ]
  },
  {
   "cell_type": "code",
   "execution_count": 94,
   "metadata": {},
   "outputs": [
    {
     "data": {
      "text/plain": [
       "'There are records I listen to having only one of the instruments within my scope. I listen to JERRY’S KIDS for the drums and I can envision myself revisiting AXE RASH’s record mostly for the vocals. The almost gorey-ugliness of the vocalist is as surprising as it was to hear UNITED MUTATION for the first time. Wish the music was just as exciting and while it is good it never escapes to be anything else. As if they cannot fail, they do not fail, therefore there is no danger on this record. It is powerful hardcore punk, occasional crazy parts, every specific parts has their traffic sign placed in advance as we approach them. Those who say that whatever MRR berates is worth listening to should go and check out AXE RASH; if you are going for the quantity of daily good bands, go listen to them, you might find something that clicks with you. For me they are too compliant. But I will be first in line if their singer starts a DIE KREUZEN-inspired band, her vocals are sick!'"
      ]
     },
     "execution_count": 94,
     "metadata": {},
     "output_type": "execute_result"
    }
   ],
   "source": [
    "soup.find('div', {'class': 'column-8'}).p.text"
   ]
  },
  {
   "cell_type": "code",
   "execution_count": null,
   "metadata": {},
   "outputs": [],
   "source": []
  }
 ],
 "metadata": {
  "kernelspec": {
   "display_name": "Python 3",
   "language": "python",
   "name": "python3"
  },
  "language_info": {
   "codemirror_mode": {
    "name": "ipython",
    "version": 3
   },
   "file_extension": ".py",
   "mimetype": "text/x-python",
   "name": "python",
   "nbconvert_exporter": "python",
   "pygments_lexer": "ipython3",
   "version": "3.7.4"
  },
  "widgets": {
   "application/vnd.jupyter.widget-state+json": {
    "state": {},
    "version_major": 2,
    "version_minor": 0
   }
  }
 },
 "nbformat": 4,
 "nbformat_minor": 4
}
