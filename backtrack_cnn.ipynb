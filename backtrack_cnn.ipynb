{
 "cells": [
  {
   "cell_type": "markdown",
   "metadata": {},
   "source": [
    "### Backtracking and Convolutional Neural Nets"
   ]
  },
  {
   "cell_type": "markdown",
   "metadata": {},
   "source": [
    "<center>\n",
    "    <img src = \"https://upload.wikimedia.org/wikipedia/commons/thumb/e/e0/Sudoku_Puzzle_by_L2G-20050714_standardized_layout.svg/1200px-Sudoku_Puzzle_by_L2G-20050714_standardized_layout.svg.png\" width = 50%\n",
    "         />\n",
    "    </center>"
   ]
  },
  {
   "cell_type": "code",
   "execution_count": 1,
   "metadata": {},
   "outputs": [],
   "source": [
    "grid = [[5, 3, 0, 0, 7, 0, 0, 0, 0], \n",
    "       [6, 0, 0, 1, 9, 5, 0, 0, 0],\n",
    "       [0, 9, 8, 0, 0, 0, 0, 6, 0],\n",
    "       [8, 0, 0, 0, 6, 0, 0, 0, 3],\n",
    "       [4, 0, 0, 8, 0, 3, 0, 0, 1],\n",
    "       [7, 0, 0, 0, 2, 0, 0, 0, 6],\n",
    "       [0, 6, 0, 0, 0, 0, 2, 8, 0],\n",
    "       [0, 0, 0, 4, 1, 9, 0, 0, 5],\n",
    "       [0, 0, 0, 0, 8, 0, 0, 7, 9]]"
   ]
  },
  {
   "cell_type": "code",
   "execution_count": 2,
   "metadata": {},
   "outputs": [],
   "source": [
    "grid = [[0, 5, 6, 4, 7, 3, 2, 0, 0],\n",
    "       [0, 2, 9, 0, 0, 0, 7, 8, 0],\n",
    "       [0, 0, 0, 0, 0, 2, 0, 3, 6],\n",
    "       [7, 9, 0, 0, 2, 0, 0, 0 ,0],\n",
    "       [1, 0, 5, 0, 0, 0, 8, 6, 2],\n",
    "       [6, 0, 0, 8, 3, 0, 0, 7, 1],\n",
    "       [0, 0, 0, 3, 0, 0, 4, 2, 8], \n",
    "       [5, 7, 4, 0, 0, 0, 6, 0, 0],\n",
    "       [0, 0, 3, 6, 9, 4, 0, 0, 0]]"
   ]
  },
  {
   "cell_type": "code",
   "execution_count": 3,
   "metadata": {},
   "outputs": [],
   "source": [
    "def print_grid():\n",
    "    for line in grid:\n",
    "        for square in line:\n",
    "            if square == 0:\n",
    "                print(\".\", end = \" \")\n",
    "            else:\n",
    "                print(square, end=\" \")\n",
    "        print()"
   ]
  },
  {
   "cell_type": "code",
   "execution_count": 4,
   "metadata": {},
   "outputs": [
    {
     "name": "stdout",
     "output_type": "stream",
     "text": [
      ". 5 6 4 7 3 2 . . \n",
      ". 2 9 . . . 7 8 . \n",
      ". . . . . 2 . 3 6 \n",
      "7 9 . . 2 . . . . \n",
      "1 . 5 . . . 8 6 2 \n",
      "6 . . 8 3 . . 7 1 \n",
      ". . . 3 . . 4 2 8 \n",
      "5 7 4 . . . 6 . . \n",
      ". . 3 6 9 4 . . . \n"
     ]
    }
   ],
   "source": [
    "print_grid()"
   ]
  },
  {
   "cell_type": "code",
   "execution_count": 6,
   "metadata": {},
   "outputs": [],
   "source": [
    "import sys"
   ]
  },
  {
   "cell_type": "code",
   "execution_count": 7,
   "metadata": {},
   "outputs": [
    {
     "name": "stdout",
     "output_type": "stream",
     "text": [
      "Loading\n",
      "\u001b[FLoading.\n",
      "\u001b[FLoading..\n",
      "\u001b[FLoading...\n",
      "\u001b[FLoading....\n",
      "\u001b[FLoading.....\n",
      "\u001b[FLoading......\n",
      "\u001b[FLoading.......\n",
      "\u001b[FLoading........\n",
      "\u001b[FLoading.........\n",
      "\u001b[F"
     ]
    }
   ],
   "source": [
    "for i in range(10):\n",
    "    print(\"Loading\" + \".\" * i)\n",
    "    sys.stdout.write(\"\\033[F\")"
   ]
  },
  {
   "cell_type": "code",
   "execution_count": 47,
   "metadata": {},
   "outputs": [],
   "source": [
    "def possible(y, x, n):\n",
    "    for i in range(0, 9):\n",
    "        if grid[y][i] == n:\n",
    "            return False\n",
    "    for i in range(9):\n",
    "        if grid[i][x] == n:\n",
    "            return False\n",
    "    x0 = (x//3)*3\n",
    "    y0 = (y//3)*3\n",
    "    for i in range(3):\n",
    "        for j in range(3):\n",
    "            if grid[y0 + i][x0 + j] == n:\n",
    "                return False\n",
    "    return True\n",
    "    \n",
    "            "
   ]
  },
  {
   "cell_type": "code",
   "execution_count": 50,
   "metadata": {},
   "outputs": [],
   "source": [
    "def solve():\n",
    "    for y in range(0, 9):\n",
    "        for x in range(0,9):\n",
    "            if grid[y][x] == 0:\n",
    "                for n in range(1, 10):\n",
    "                    if possible(y, x, n):\n",
    "                        grid[y][x] = n\n",
    "                        solve()\n",
    "                        grid[y][x] = 0\n",
    "                return \n",
    "    print_grid()"
   ]
  },
  {
   "cell_type": "markdown",
   "metadata": {},
   "source": [
    "### Convolutional Neural Net"
   ]
  },
  {
   "cell_type": "code",
   "execution_count": 81,
   "metadata": {},
   "outputs": [],
   "source": [
    "%matplotlib inline\n",
    "import matplotlib.pyplot as plt\n",
    "import numpy as np\n",
    "import pandas as pd\n",
    "import keras\n",
    "from keras.datasets import cifar10, fashion_mnist"
   ]
  },
  {
   "cell_type": "code",
   "execution_count": 82,
   "metadata": {},
   "outputs": [],
   "source": [
    "(x_train, y_train), (x_test, y_test) = cifar10.load_data()"
   ]
  },
  {
   "cell_type": "code",
   "execution_count": 83,
   "metadata": {},
   "outputs": [
    {
     "data": {
      "text/plain": [
       "(50000, 32, 32, 3)"
      ]
     },
     "execution_count": 83,
     "metadata": {},
     "output_type": "execute_result"
    }
   ],
   "source": [
    "x_train.shape"
   ]
  },
  {
   "cell_type": "code",
   "execution_count": 84,
   "metadata": {},
   "outputs": [],
   "source": [
    "names = ['plane', 'car', 'bird', 'cat', 'deer', 'dog', 'frog', 'horse', 'ship', 'truck']"
   ]
  },
  {
   "cell_type": "code",
   "execution_count": 85,
   "metadata": {},
   "outputs": [],
   "source": [
    "d = {k:v for k,v in zip(range(10), names)}"
   ]
  },
  {
   "cell_type": "code",
   "execution_count": 86,
   "metadata": {},
   "outputs": [
    {
     "data": {
      "text/plain": [
       "Text(0.5, 1.0, 'horse')"
      ]
     },
     "execution_count": 86,
     "metadata": {},
     "output_type": "execute_result"
    },
    {
     "data": {
      "image/png": "[encoded data removed]",
      "text/plain": [
       "<Figure size 432x288 with 1 Axes>"
      ]
     },
     "metadata": {
      "needs_background": "light"
     },
     "output_type": "display_data"
    }
   ],
   "source": [
    "plt.imshow(x_train[12])\n",
    "plt.title(d[y_train[12][0]])"
   ]
  },
  {
   "cell_type": "code",
   "execution_count": 87,
   "metadata": {},
   "outputs": [],
   "source": [
    "x_train = x_train/255\n",
    "x_test = x_test/255"
   ]
  },
  {
   "cell_type": "code",
   "execution_count": 88,
   "metadata": {},
   "outputs": [],
   "source": [
    "from keras.utils import to_categorical\n",
    "from keras.models import Sequential\n",
    "from keras.layers import Conv2D\n",
    "from keras.layers import MaxPooling2D\n",
    "from keras.layers import Dense\n",
    "from keras.layers import Flatten"
   ]
  },
  {
   "cell_type": "code",
   "execution_count": 89,
   "metadata": {},
   "outputs": [],
   "source": [
    "model = Sequential()"
   ]
  },
  {
   "cell_type": "code",
   "execution_count": 90,
   "metadata": {},
   "outputs": [],
   "source": [
    "model.add(Conv2D(32, (3, 3), activation = 'relu', input_shape = (32, 32, 3)))\n",
    "model.add(Conv2D(32, (3, 3), activation = 'relu'))\n",
    "model.add(MaxPooling2D((2, 2)))\n",
    "model.add(Conv2D(32, (3, 3), activation = 'relu'))\n",
    "model.add(Conv2D(32, (3, 3), activation = 'relu'))\n",
    "model.add(MaxPooling2D((2, 2)))"
   ]
  },
  {
   "cell_type": "code",
   "execution_count": 91,
   "metadata": {},
   "outputs": [],
   "source": [
    "model.add(Flatten())\n",
    "model.add(Dense(128, activation = 'relu'))\n",
    "model.add(Dense(10, activation = 'softmax'))"
   ]
  },
  {
   "cell_type": "code",
   "execution_count": 92,
   "metadata": {},
   "outputs": [],
   "source": [
    "model.compile(optimizer = 'adam', loss = 'categorical_crossentropy',\n",
    "              metrics = ['accuracy'])"
   ]
  },
  {
   "cell_type": "code",
   "execution_count": 93,
   "metadata": {},
   "outputs": [],
   "source": [
    "y_train = to_categorical(y_train)\n",
    "y_test = to_categorical(y_test)"
   ]
  },
  {
   "cell_type": "code",
   "execution_count": 97,
   "metadata": {},
   "outputs": [
    {
     "name": "stdout",
     "output_type": "stream",
     "text": [
      "Train on 50000 samples, validate on 10000 samples\n",
      "Epoch 1/5\n",
      "50000/50000 [==============================] - 48s 952us/step - loss: 1.1124 - accuracy: 0.6065 - val_loss: 1.0705 - val_accuracy: 0.6215\n",
      "Epoch 2/5\n",
      "50000/50000 [==============================] - 48s 965us/step - loss: 0.9571 - accuracy: 0.6643 - val_loss: 0.9629 - val_accuracy: 0.6618\n",
      "Epoch 3/5\n",
      "50000/50000 [==============================] - 48s 969us/step - loss: 0.8507 - accuracy: 0.6995 - val_loss: 0.9135 - val_accuracy: 0.6859\n",
      "Epoch 4/5\n",
      "50000/50000 [==============================] - 48s 962us/step - loss: 0.7734 - accuracy: 0.7290 - val_loss: 0.8866 - val_accuracy: 0.6932\n",
      "Epoch 5/5\n",
      "50000/50000 [==============================] - 48s 956us/step - loss: 0.7072 - accuracy: 0.7488 - val_loss: 0.8391 - val_accuracy: 0.7138\n"
     ]
    }
   ],
   "source": [
    "history = model.fit(x_train, y_train, epochs = 5, batch_size = 32,  validation_data = (x_test, y_test))"
   ]
  },
  {
   "cell_type": "code",
   "execution_count": 98,
   "metadata": {},
   "outputs": [
    {
     "data": {
      "text/plain": [
       "[<matplotlib.lines.Line2D at 0x7fcbf8f88f50>]"
      ]
     },
     "execution_count": 98,
     "metadata": {},
     "output_type": "execute_result"
    },
    {
     "data": {
      "image/png": "[encoded data removed]",
      "text/plain": [
       "<Figure size 432x288 with 1 Axes>"
      ]
     },
     "metadata": {
      "needs_background": "light"
     },
     "output_type": "display_data"
    }
   ],
   "source": [
    "plt.plot(history.history['accuracy'])"
   ]
  },
  {
   "cell_type": "code",
   "execution_count": null,
   "metadata": {},
   "outputs": [],
   "source": []
  },
  {
   "cell_type": "code",
   "execution_count": null,
   "metadata": {},
   "outputs": [],
   "source": []
  },
  {
   "cell_type": "code",
   "execution_count": null,
   "metadata": {},
   "outputs": [],
   "source": []
  },
  {
   "cell_type": "code",
   "execution_count": null,
   "metadata": {},
   "outputs": [],
   "source": []
  },
  {
   "cell_type": "code",
   "execution_count": null,
   "metadata": {},
   "outputs": [],
   "source": []
  }
 ],
 "metadata": {
  "kernelspec": {
   "display_name": "Python 3",
   "language": "python",
   "name": "python3"
  },
  "language_info": {
   "codemirror_mode": {
    "name": "ipython",
    "version": 3
   },
   "file_extension": ".py",
   "mimetype": "text/x-python",
   "name": "python",
   "nbconvert_exporter": "python",
   "pygments_lexer": "ipython3",
   "version": "3.7.4"
  },
  "widgets": {
   "application/vnd.jupyter.widget-state+json": {
    "state": {},
    "version_major": 2,
    "version_minor": 0
   }
  }
 },
 "nbformat": 4,
 "nbformat_minor": 4
}
