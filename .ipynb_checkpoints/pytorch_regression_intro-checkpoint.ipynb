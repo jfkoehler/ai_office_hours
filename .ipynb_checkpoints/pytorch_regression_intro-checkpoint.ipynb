{
 "cells": [
  {
   "cell_type": "markdown",
   "metadata": {},
   "source": [
    "# Regression in PyTorch"
   ]
  },
  {
   "cell_type": "code",
   "execution_count": 1,
   "metadata": {},
   "outputs": [],
   "source": [
    "import torch\n",
    "import torch.nn as nn"
   ]
  },
  {
   "cell_type": "code",
   "execution_count": 2,
   "metadata": {},
   "outputs": [],
   "source": [
    "w = torch.tensor(3.0, requires_grad = True)\n",
    "b = torch.tensor(1.0, requires_grad = True)"
   ]
  },
  {
   "cell_type": "code",
   "execution_count": 3,
   "metadata": {},
   "outputs": [],
   "source": [
    "def ffwd(x):\n",
    "    return w*x + b"
   ]
  },
  {
   "cell_type": "code",
   "execution_count": 4,
   "metadata": {},
   "outputs": [],
   "source": [
    "x = torch.tensor([4])"
   ]
  },
  {
   "cell_type": "code",
   "execution_count": 5,
   "metadata": {},
   "outputs": [
    {
     "data": {
      "text/plain": [
       "tensor([13.], grad_fn=<AddBackward0>)"
      ]
     },
     "execution_count": 5,
     "metadata": {},
     "output_type": "execute_result"
    }
   ],
   "source": [
    "ffwd(x)"
   ]
  },
  {
   "cell_type": "code",
   "execution_count": 6,
   "metadata": {},
   "outputs": [],
   "source": [
    "x = torch.tensor([[5], [2]])"
   ]
  },
  {
   "cell_type": "code",
   "execution_count": 7,
   "metadata": {},
   "outputs": [
    {
     "data": {
      "text/plain": [
       "tensor([[16.],\n",
       "        [ 7.]], grad_fn=<AddBackward0>)"
      ]
     },
     "execution_count": 7,
     "metadata": {},
     "output_type": "execute_result"
    }
   ],
   "source": [
    "ffwd(x)"
   ]
  },
  {
   "cell_type": "markdown",
   "metadata": {},
   "source": [
    "Linear Model"
   ]
  },
  {
   "cell_type": "code",
   "execution_count": 8,
   "metadata": {},
   "outputs": [
    {
     "name": "stdout",
     "output_type": "stream",
     "text": [
      "Parameter containing:\n",
      "tensor([-0.4414], requires_grad=True) Parameter containing:\n",
      "tensor([[0.5153]], requires_grad=True)\n"
     ]
    }
   ],
   "source": [
    "torch.manual_seed(1)\n",
    "model = nn.Linear(in_features = 1, out_features=1)\n",
    "print(model.bias, model.weight)"
   ]
  },
  {
   "cell_type": "code",
   "execution_count": 9,
   "metadata": {},
   "outputs": [
    {
     "name": "stdout",
     "output_type": "stream",
     "text": [
      "tensor([1.1044], grad_fn=<AddBackward0>)\n"
     ]
    }
   ],
   "source": [
    "x = torch.tensor([3.0])\n",
    "print(model(x))"
   ]
  },
  {
   "cell_type": "markdown",
   "metadata": {},
   "source": [
    "class of regressor"
   ]
  },
  {
   "cell_type": "code",
   "execution_count": 10,
   "metadata": {},
   "outputs": [],
   "source": [
    "class LinearRegression(nn.Module):\n",
    "    \n",
    "    \n",
    "    def __init__(self, input_size, output_size):\n",
    "        super().__init__()\n",
    "        self.linear = nn.Linear(input_size, output_size)\n",
    "        "
   ]
  },
  {
   "cell_type": "code",
   "execution_count": 11,
   "metadata": {},
   "outputs": [],
   "source": [
    "torch.manual_seed(1)\n",
    "lr = LinearRegression(1, 1)"
   ]
  },
  {
   "cell_type": "code",
   "execution_count": 12,
   "metadata": {},
   "outputs": [
    {
     "data": {
      "text/plain": [
       "[Parameter containing:\n",
       " tensor([[0.5153]], requires_grad=True), Parameter containing:\n",
       " tensor([-0.4414], requires_grad=True)]"
      ]
     },
     "execution_count": 12,
     "metadata": {},
     "output_type": "execute_result"
    }
   ],
   "source": [
    "list(lr.parameters())"
   ]
  },
  {
   "cell_type": "code",
   "execution_count": 13,
   "metadata": {},
   "outputs": [],
   "source": [
    "class LinearRegression(nn.Module):\n",
    "    \n",
    "    \n",
    "    def __init__(self, input_size, output_size):\n",
    "        super().__init__()\n",
    "        self.linear = nn.Linear(input_size, output_size)\n",
    "        \n",
    "    def ffwd(self, x):\n",
    "        return self.linear(x)"
   ]
  },
  {
   "cell_type": "code",
   "execution_count": 14,
   "metadata": {},
   "outputs": [],
   "source": [
    "torch.manual_seed(1)\n",
    "lr = LinearRegression(1, 1)"
   ]
  },
  {
   "cell_type": "code",
   "execution_count": 15,
   "metadata": {},
   "outputs": [],
   "source": [
    "x = torch.tensor([4.3])"
   ]
  },
  {
   "cell_type": "code",
   "execution_count": 16,
   "metadata": {},
   "outputs": [
    {
     "data": {
      "text/plain": [
       "tensor([1.7743], grad_fn=<AddBackward0>)"
      ]
     },
     "execution_count": 16,
     "metadata": {},
     "output_type": "execute_result"
    }
   ],
   "source": [
    "lr.ffwd(x)"
   ]
  },
  {
   "cell_type": "markdown",
   "metadata": {},
   "source": [
    "##### Simple Dataset"
   ]
  },
  {
   "cell_type": "code",
   "execution_count": 17,
   "metadata": {},
   "outputs": [],
   "source": [
    "import pandas as pd\n",
    "%matplotlib inline\n",
    "import matplotlib.pyplot as plt\n",
    "import numpy as np"
   ]
  },
  {
   "cell_type": "code",
   "execution_count": 18,
   "metadata": {},
   "outputs": [],
   "source": [
    "X = torch.randn(100, 1)*10\n",
    "y = X + torch.randn(100, 1)*3"
   ]
  },
  {
   "cell_type": "code",
   "execution_count": 19,
   "metadata": {},
   "outputs": [
    {
     "data": {
      "text/plain": [
       "<matplotlib.collections.PathCollection at 0x7f97e87a4650>"
      ]
     },
     "execution_count": 19,
     "metadata": {},
     "output_type": "execute_result"
    },
    {
     "data": {
      "image/png": "[encoded data removed]",
      "text/plain": [
       "<Figure size 432x288 with 1 Axes>"
      ]
     },
     "metadata": {
      "needs_background": "light"
     },
     "output_type": "display_data"
    }
   ],
   "source": [
    "plt.scatter(X, y)"
   ]
  },
  {
   "cell_type": "code",
   "execution_count": 20,
   "metadata": {},
   "outputs": [
    {
     "data": {
      "text/plain": [
       "[Parameter containing:\n",
       " tensor([[0.5153]], requires_grad=True), Parameter containing:\n",
       " tensor([-0.4414], requires_grad=True)]"
      ]
     },
     "execution_count": 20,
     "metadata": {},
     "output_type": "execute_result"
    }
   ],
   "source": [
    "list(lr.parameters())"
   ]
  },
  {
   "cell_type": "code",
   "execution_count": 21,
   "metadata": {},
   "outputs": [],
   "source": [
    "[w, b] = lr.parameters()"
   ]
  },
  {
   "cell_type": "code",
   "execution_count": 22,
   "metadata": {},
   "outputs": [],
   "source": [
    "def get_parameters():\n",
    "    return w[0][0].item(), b[0].item()"
   ]
  },
  {
   "cell_type": "code",
   "execution_count": 23,
   "metadata": {},
   "outputs": [],
   "source": [
    "def plot_model_fit(title):\n",
    "    plt.title = title\n",
    "    w1, b1 = get_parameters()\n",
    "    x1 = np.array([-30,30])\n",
    "    y1 = w1*x1 + b1\n",
    "    plt.plot(x1, y1, '-r')\n",
    "    plt.scatter(X, y)"
   ]
  },
  {
   "cell_type": "code",
   "execution_count": 24,
   "metadata": {},
   "outputs": [
    {
     "data": {
      "image/png": "[encoded data removed]",
      "text/plain": [
       "<Figure size 432x288 with 1 Axes>"
      ]
     },
     "metadata": {
      "needs_background": "light"
     },
     "output_type": "display_data"
    }
   ],
   "source": [
    "plot_model_fit('steve')"
   ]
  },
  {
   "cell_type": "markdown",
   "metadata": {},
   "source": [
    "### Improving the Fit"
   ]
  },
  {
   "cell_type": "markdown",
   "metadata": {},
   "source": [
    "$$(y - wx)^2$$\n",
    "\n",
    "Take for example the point $(-3, 3)$.\n",
    "\n",
    "$$\\text{Loss} = (3 - w(-3))^2$$\n",
    "\n",
    "Choose $w$ to minimize error.\n",
    "\n",
    "$$w_1 = w_0 - \\alpha f'(w)$$"
   ]
  },
  {
   "cell_type": "code",
   "execution_count": 25,
   "metadata": {},
   "outputs": [],
   "source": [
    "w0 = -1.5\n",
    "alpha = 0.01"
   ]
  },
  {
   "cell_type": "code",
   "execution_count": 26,
   "metadata": {},
   "outputs": [],
   "source": [
    "loss = (3 - (-1.5*-3))**2"
   ]
  },
  {
   "cell_type": "code",
   "execution_count": 27,
   "metadata": {},
   "outputs": [
    {
     "data": {
      "text/plain": [
       "2.25"
      ]
     },
     "execution_count": 27,
     "metadata": {},
     "output_type": "execute_result"
    }
   ],
   "source": [
    "loss"
   ]
  },
  {
   "cell_type": "code",
   "execution_count": 28,
   "metadata": {},
   "outputs": [],
   "source": [
    "d_loss = 2*(3 + 3*w0)*3"
   ]
  },
  {
   "cell_type": "code",
   "execution_count": 29,
   "metadata": {},
   "outputs": [
    {
     "data": {
      "text/plain": [
       "-9.0"
      ]
     },
     "execution_count": 29,
     "metadata": {},
     "output_type": "execute_result"
    }
   ],
   "source": [
    "d_loss"
   ]
  },
  {
   "cell_type": "code",
   "execution_count": 30,
   "metadata": {},
   "outputs": [],
   "source": [
    "w1 = w0 - alpha*d_loss"
   ]
  },
  {
   "cell_type": "code",
   "execution_count": 31,
   "metadata": {},
   "outputs": [
    {
     "data": {
      "text/plain": [
       "-1.41"
      ]
     },
     "execution_count": 31,
     "metadata": {},
     "output_type": "execute_result"
    }
   ],
   "source": [
    "w1"
   ]
  },
  {
   "cell_type": "markdown",
   "metadata": {},
   "source": [
    "Typically we also have bias term and update according to gradients.\n",
    "\n",
    "$$m_1 = m_0 - \\alpha f'(m)$$\n",
    "$$b_1 = b_0 - \\alpha f'(b)$$"
   ]
  },
  {
   "cell_type": "markdown",
   "metadata": {},
   "source": [
    "### Implementing in PyTorch"
   ]
  },
  {
   "cell_type": "code",
   "execution_count": 32,
   "metadata": {},
   "outputs": [],
   "source": [
    "class LinearRegression(nn.Module):\n",
    "    def __init__(self, input_size, output_size):\n",
    "        super().__init__()\n",
    "        self.linear = nn.Linear(input_size, output_size)\n",
    "        \n",
    "    def ffwd(self, x):\n",
    "        return self.linear(x)"
   ]
  },
  {
   "cell_type": "code",
   "execution_count": 33,
   "metadata": {},
   "outputs": [],
   "source": [
    "torch.manual_seed(1)\n",
    "X = torch.randn(100, 1)*10\n",
    "\n",
    "y = X + 3*torch.randn(100, 1)"
   ]
  },
  {
   "cell_type": "code",
   "execution_count": 34,
   "metadata": {},
   "outputs": [],
   "source": [
    "model = LinearRegression(1, 1)"
   ]
  },
  {
   "cell_type": "code",
   "execution_count": 39,
   "metadata": {},
   "outputs": [],
   "source": [
    "criterion = nn.MSELoss()\n",
    "optimizer = torch.optim.SGD(model.parameters(), lr = 0.01)"
   ]
  },
  {
   "cell_type": "code",
   "execution_count": 40,
   "metadata": {},
   "outputs": [
    {
     "name": "stdout",
     "output_type": "stream",
     "text": [
      "epoch 0, loss: 10.049812316894531\n",
      "epoch 1, loss: 10.04720687866211\n",
      "epoch 2, loss: 10.044700622558594\n",
      "epoch 3, loss: 10.042289733886719\n",
      "epoch 4, loss: 10.039971351623535\n",
      "epoch 5, loss: 10.037740707397461\n",
      "epoch 6, loss: 10.035593032836914\n",
      "epoch 7, loss: 10.033528327941895\n",
      "epoch 8, loss: 10.031540870666504\n",
      "epoch 9, loss: 10.02962875366211\n",
      "epoch 10, loss: 10.027791976928711\n",
      "epoch 11, loss: 10.026021957397461\n",
      "epoch 12, loss: 10.024320602416992\n",
      "epoch 13, loss: 10.022683143615723\n",
      "epoch 14, loss: 10.021108627319336\n",
      "epoch 15, loss: 10.01959228515625\n",
      "epoch 16, loss: 10.018134117126465\n",
      "epoch 17, loss: 10.016732215881348\n",
      "epoch 18, loss: 10.015381813049316\n",
      "epoch 19, loss: 10.01408576965332\n",
      "epoch 20, loss: 10.012835502624512\n",
      "epoch 21, loss: 10.011634826660156\n",
      "epoch 22, loss: 10.010478973388672\n",
      "epoch 23, loss: 10.009366035461426\n",
      "epoch 24, loss: 10.008296966552734\n",
      "epoch 25, loss: 10.007266998291016\n",
      "epoch 26, loss: 10.006277084350586\n",
      "epoch 27, loss: 10.005325317382812\n",
      "epoch 28, loss: 10.004408836364746\n",
      "epoch 29, loss: 10.003527641296387\n",
      "epoch 30, loss: 10.002679824829102\n",
      "epoch 31, loss: 10.001862525939941\n",
      "epoch 32, loss: 10.001077651977539\n",
      "epoch 33, loss: 10.000322341918945\n",
      "epoch 34, loss: 9.999595642089844\n",
      "epoch 35, loss: 9.998897552490234\n",
      "epoch 36, loss: 9.998224258422852\n",
      "epoch 37, loss: 9.997577667236328\n",
      "epoch 38, loss: 9.996955871582031\n",
      "epoch 39, loss: 9.996356964111328\n",
      "epoch 40, loss: 9.995781898498535\n",
      "epoch 41, loss: 9.995226860046387\n",
      "epoch 42, loss: 9.994693756103516\n",
      "epoch 43, loss: 9.994180679321289\n",
      "epoch 44, loss: 9.99368667602539\n",
      "epoch 45, loss: 9.99321174621582\n",
      "epoch 46, loss: 9.992755889892578\n",
      "epoch 47, loss: 9.992317199707031\n",
      "epoch 48, loss: 9.991894721984863\n",
      "epoch 49, loss: 9.991486549377441\n",
      "epoch 50, loss: 9.991096496582031\n",
      "epoch 51, loss: 9.99071979522705\n",
      "epoch 52, loss: 9.99035930633545\n",
      "epoch 53, loss: 9.990009307861328\n",
      "epoch 54, loss: 9.989673614501953\n",
      "epoch 55, loss: 9.989352226257324\n",
      "epoch 56, loss: 9.989042282104492\n",
      "epoch 57, loss: 9.988743782043457\n",
      "epoch 58, loss: 9.988456726074219\n",
      "epoch 59, loss: 9.988180160522461\n",
      "epoch 60, loss: 9.9879150390625\n",
      "epoch 61, loss: 9.987659454345703\n",
      "epoch 62, loss: 9.987414360046387\n",
      "epoch 63, loss: 9.987176895141602\n",
      "epoch 64, loss: 9.986949920654297\n",
      "epoch 65, loss: 9.98673152923584\n",
      "epoch 66, loss: 9.986520767211914\n",
      "epoch 67, loss: 9.98631763458252\n",
      "epoch 68, loss: 9.986122131347656\n",
      "epoch 69, loss: 9.98593521118164\n",
      "epoch 70, loss: 9.985754013061523\n",
      "epoch 71, loss: 9.985580444335938\n",
      "epoch 72, loss: 9.985414505004883\n",
      "epoch 73, loss: 9.985252380371094\n",
      "epoch 74, loss: 9.985099792480469\n",
      "epoch 75, loss: 9.98495101928711\n",
      "epoch 76, loss: 9.984807968139648\n",
      "epoch 77, loss: 9.984668731689453\n",
      "epoch 78, loss: 9.984537124633789\n",
      "epoch 79, loss: 9.98440933227539\n",
      "epoch 80, loss: 9.984286308288574\n",
      "epoch 81, loss: 9.984169006347656\n",
      "epoch 82, loss: 9.984055519104004\n",
      "epoch 83, loss: 9.983946800231934\n",
      "epoch 84, loss: 9.983842849731445\n",
      "epoch 85, loss: 9.983741760253906\n",
      "epoch 86, loss: 9.983643531799316\n",
      "epoch 87, loss: 9.983551025390625\n",
      "epoch 88, loss: 9.983460426330566\n",
      "epoch 89, loss: 9.983373641967773\n",
      "epoch 90, loss: 9.983290672302246\n",
      "epoch 91, loss: 9.983211517333984\n",
      "epoch 92, loss: 9.983135223388672\n",
      "epoch 93, loss: 9.98305892944336\n",
      "epoch 94, loss: 9.982987403869629\n",
      "epoch 95, loss: 9.982918739318848\n",
      "epoch 96, loss: 9.982852935791016\n",
      "epoch 97, loss: 9.98279094696045\n",
      "epoch 98, loss: 9.982728958129883\n",
      "epoch 99, loss: 9.982669830322266\n"
     ]
    }
   ],
   "source": [
    "epochs = 100\n",
    "losses = []\n",
    "for i in range(epochs):\n",
    "    y_pred = model.ffwd(X)\n",
    "    loss = criterion(y_pred, y)\n",
    "    print(f'epoch {i}, loss: {loss.item()}')\n",
    "    losses.append(loss)\n",
    "    optimizer.zero_grad()\n",
    "    loss.backward()\n",
    "    optimizer.step()"
   ]
  },
  {
   "cell_type": "code",
   "execution_count": 41,
   "metadata": {},
   "outputs": [
    {
     "data": {
      "text/plain": [
       "[<matplotlib.lines.Line2D at 0x7f97d82b47d0>]"
      ]
     },
     "execution_count": 41,
     "metadata": {},
     "output_type": "execute_result"
    },
    {
     "data": {
      "image/png": "[encoded data removed]",
      "text/plain": [
       "<Figure size 432x288 with 1 Axes>"
      ]
     },
     "metadata": {
      "needs_background": "light"
     },
     "output_type": "display_data"
    }
   ],
   "source": [
    "plt.plot(range(epochs), losses, '--r')"
   ]
  },
  {
   "cell_type": "code",
   "execution_count": 42,
   "metadata": {},
   "outputs": [
    {
     "data": {
      "image/png": "[encoded data removed]",
      "text/plain": [
       "<Figure size 432x288 with 1 Axes>"
      ]
     },
     "metadata": {
      "needs_background": "light"
     },
     "output_type": "display_data"
    }
   ],
   "source": [
    "w, b = model.parameters()\n",
    "plot_model_fit('PyTorch Trained Model')"
   ]
  },
  {
   "cell_type": "code",
   "execution_count": null,
   "metadata": {},
   "outputs": [],
   "source": []
  }
 ],
 "metadata": {
  "kernelspec": {
   "display_name": "Python 3",
   "language": "python",
   "name": "python3"
  },
  "language_info": {
   "codemirror_mode": {
    "name": "ipython",
    "version": 3
   },
   "file_extension": ".py",
   "mimetype": "text/x-python",
   "name": "python",
   "nbconvert_exporter": "python",
   "pygments_lexer": "ipython3",
   "version": "3.7.4"
  },
  "widgets": {
   "application/vnd.jupyter.widget-state+json": {
    "state": {},
    "version_major": 2,
    "version_minor": 0
   }
  }
 },
 "nbformat": 4,
 "nbformat_minor": 4
}
